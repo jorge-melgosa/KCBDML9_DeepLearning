{
  "nbformat": 4,
  "nbformat_minor": 0,
  "metadata": {
    "colab": {
      "name": "DeepLearning-Practica-Mel.ipynb",
      "provenance": [],
      "collapsed_sections": []
    },
    "kernelspec": {
      "name": "python3",
      "display_name": "Python 3"
    },
    "language_info": {
      "name": "python"
    },
    "accelerator": "GPU"
  },
  "cells": [
    {
      "cell_type": "code",
      "execution_count": 2,
      "metadata": {
        "id": "AWNfSlTKRrzw"
      },
      "outputs": [],
      "source": [
        "#Imports necesarios durante toda la practica"
      ]
    },
    {
      "cell_type": "code",
      "source": [
        "import tensorflow as tf\n",
        "import pandas as pd\n",
        "import numpy as np\n",
        "import matplotlib.pyplot as plt\n",
        "import argparse\n",
        "import locale\n",
        "import os\n",
        "\n",
        "from sklearn.preprocessing import MinMaxScaler\n",
        "from sklearn.preprocessing import LabelEncoder\n",
        "from sklearn.model_selection import train_test_split\n",
        "from sklearn.metrics import classification_report\n",
        "\n",
        "from tensorflow.keras.models import Sequential, Model\n",
        "from tensorflow.keras.layers import Dense, Flatten, Conv2D, MaxPooling2D, GlobalMaxPooling2D, GlobalAveragePooling2D, BatchNormalization, Activation, concatenate, Dropout, Input\n",
        "from tensorflow.keras.optimizers import SGD, Adam\n",
        "from tensorflow.keras.utils import to_categorical\n",
        "from tensorflow.keras import callbacks\n",
        "from tensorflow.keras import optimizers, Model\n",
        "from tensorflow.keras.preprocessing.image import ImageDataGenerator\n",
        "from tensorflow.keras.applications import VGG16\n",
        "\n",
        "print(tf.__version__)"
      ],
      "metadata": {
        "id": "x4bL9ZcRg_Su",
        "colab": {
          "base_uri": "https://localhost:8080/"
        },
        "outputId": "c79f1bff-1bc9-47ea-a508-0c3a67483589"
      },
      "execution_count": 199,
      "outputs": [
        {
          "output_type": "stream",
          "name": "stdout",
          "text": [
            "2.8.2\n"
          ]
        }
      ]
    },
    {
      "cell_type": "markdown",
      "source": [
        "**Carga de datos**"
      ],
      "metadata": {
        "id": "A4L1qC9xqQBJ"
      }
    },
    {
      "cell_type": "code",
      "source": [
        "#Descargamos el data set\n",
        "!wget -O \"airbnb-listings.csv\" \"https://public.opendatasoft.com/explore/dataset/airbnb-listings/download/?format=csv&disjunctive.host_verifications=true&disjunctive.amenities=true&disjunctive.features=true&refine.country=Spain&q=Madrid&timezone=Europe/London&use_labels_for_header=true&csv_separator=%3B\""
      ],
      "metadata": {
        "colab": {
          "base_uri": "https://localhost:8080/"
        },
        "id": "0y_5_Zl7SDfp",
        "outputId": "8ca8f8a8-51b8-40d9-ca33-8196ec37e045"
      },
      "execution_count": 147,
      "outputs": [
        {
          "output_type": "stream",
          "name": "stdout",
          "text": [
            "--2022-06-12 20:32:08--  https://public.opendatasoft.com/explore/dataset/airbnb-listings/download/?format=csv&disjunctive.host_verifications=true&disjunctive.amenities=true&disjunctive.features=true&refine.country=Spain&q=Madrid&timezone=Europe/London&use_labels_for_header=true&csv_separator=%3B\n",
            "Resolving public.opendatasoft.com (public.opendatasoft.com)... 34.249.199.226, 34.248.20.69\n",
            "Connecting to public.opendatasoft.com (public.opendatasoft.com)|34.249.199.226|:443... connected.\n",
            "HTTP request sent, awaiting response... 200 OK\n",
            "Length: unspecified [application/csv]\n",
            "Saving to: ‘airbnb-listings.csv’\n",
            "\n",
            "airbnb-listings.csv     [   <=>              ]  54.31M  2.83MB/s    in 19s     \n",
            "\n",
            "2022-06-12 20:32:28 (2.92 MB/s) - ‘airbnb-listings.csv’ saved [56950929]\n",
            "\n"
          ]
        }
      ]
    },
    {
      "cell_type": "code",
      "source": [
        "#Listamos directorio para ver que hemos descargado correctamente el DataSet\n",
        "!ls -lah"
      ],
      "metadata": {
        "colab": {
          "base_uri": "https://localhost:8080/"
        },
        "id": "4v2INmZwSeMm",
        "outputId": "e500cd48-3b0a-4dcd-f343-91426e4c1485"
      },
      "execution_count": 148,
      "outputs": [
        {
          "output_type": "stream",
          "name": "stdout",
          "text": [
            "total 55M\n",
            "drwxr-xr-x 1 root root 4.0K Jun 12 15:21 .\n",
            "drwxr-xr-x 1 root root 4.0K Jun 12 15:18 ..\n",
            "-rw-r--r-- 1 root root  55M Jun 12 20:32 airbnb-listings.csv\n",
            "drwxr-xr-x 4 root root 4.0K Jun  1 13:49 .config\n",
            "drwx------ 5 root root 4.0K Jun 12 15:21 drive\n",
            "drwxr-xr-x 1 root root 4.0K Jun  1 13:50 sample_data\n"
          ]
        }
      ]
    },
    {
      "cell_type": "markdown",
      "source": [
        "**Procesamiento de datos**"
      ],
      "metadata": {
        "id": "SPnEg-1YqVMg"
      }
    },
    {
      "cell_type": "code",
      "source": [
        "#Hacemos algunas comprobaciones para ver que lo hemos cargado correctamente\n",
        "data = pd.read_csv('airbnb-listings.csv', sep = ';')\n",
        "data.head(5)"
      ],
      "metadata": {
        "colab": {
          "base_uri": "https://localhost:8080/",
          "height": 786
        },
        "id": "3OH0i96PYaR5",
        "outputId": "1524cb46-99a3-4d62-81aa-b9330c9b4637"
      },
      "execution_count": 149,
      "outputs": [
        {
          "output_type": "execute_result",
          "data": {
            "text/plain": [
              "        ID                           Listing Url       Scrape ID Last Scraped  \\\n",
              "0  3150371  https://www.airbnb.com/rooms/3150371  20170407214119   2017-04-08   \n",
              "1  3378181  https://www.airbnb.com/rooms/3378181  20170407214119   2017-04-08   \n",
              "2  2070750  https://www.airbnb.com/rooms/2070750  20170407214119   2017-04-08   \n",
              "3  9832499  https://www.airbnb.com/rooms/9832499  20170407214119   2017-04-08   \n",
              "4  1868170  https://www.airbnb.com/rooms/1868170  20170407214119   2017-04-08   \n",
              "\n",
              "                                  Name  \\\n",
              "0   Double room + bathroom - La Latina   \n",
              "1     Ópera/Plz Mayor -- A/C, elevator   \n",
              "2          Centric room with a balcony   \n",
              "3  PLAZA DE ESPAÑA - Único - Gimnasio.   \n",
              "4    Loft/duplex 150m2, 3 double rooms   \n",
              "\n",
              "                                             Summary  \\\n",
              "0  Double room with own bathroom in La Latina, in...   \n",
              "1  Old world charm meets modern comfort in our ne...   \n",
              "2  Lominous room for rent in the heart of the old...   \n",
              "3  Ubicado en el famoso edificio Torre de Madrid,...   \n",
              "4  Huge, open plan spacious apartment in the cent...   \n",
              "\n",
              "                                               Space  \\\n",
              "0  The apartment is spacious and cozy. It is 90 m...   \n",
              "1  Designed with the traveler in mind, our one-be...   \n",
              "2  Lominous room for rent in the heart of the old...   \n",
              "3  Ubicado en el famoso edificio Torre de Madrid,...   \n",
              "4  Huge, open plan spacious apartment in the cent...   \n",
              "\n",
              "                                         Description Experiences Offered  \\\n",
              "0  Double room with own bathroom in La Latina, in...                none   \n",
              "1  Old world charm meets modern comfort in our ne...                none   \n",
              "2  Lominous room for rent in the heart of the old...                none   \n",
              "3  Ubicado en el famoso edificio Torre de Madrid,...                none   \n",
              "4  Huge, open plan spacious apartment in the cent...                none   \n",
              "\n",
              "                               Neighborhood Overview  ...  \\\n",
              "0  La Latina is one of the most famous neighbourh...  ...   \n",
              "1  The neighborhood is steeped in history and clo...  ...   \n",
              "2                                                  -  ...   \n",
              "3                                                NaN  ...   \n",
              "4                                                NaN  ...   \n",
              "\n",
              "  Review Scores Communication Review Scores Location Review Scores Value  \\\n",
              "0                        10.0                   10.0                10.0   \n",
              "1                        10.0                   10.0                10.0   \n",
              "2                         9.0                   10.0                 9.0   \n",
              "3                        10.0                   10.0                10.0   \n",
              "4                        10.0                   10.0                 9.0   \n",
              "\n",
              "   License Jurisdiction Names Cancellation Policy  \\\n",
              "0      NaN                NaN            flexible   \n",
              "1      NaN                NaN              strict   \n",
              "2      NaN                NaN            flexible   \n",
              "3  VT-1520                NaN              strict   \n",
              "4      NaN                NaN            moderate   \n",
              "\n",
              "  Calculated host listings count Reviews per Month  \\\n",
              "0                              1              2.33   \n",
              "1                              2              2.69   \n",
              "2                              4              0.60   \n",
              "3                              9              3.56   \n",
              "4                              1              1.13   \n",
              "\n",
              "                              Geolocation  \\\n",
              "0    40.41010608050749,-3.714754034177323   \n",
              "1  40.416968822636726,-3.7094389211089993   \n",
              "2   40.40970517560235,-3.7135611928841086   \n",
              "3      40.42319271738103,-3.7112486513892   \n",
              "4  40.416513932601625,-3.7178427529546973   \n",
              "\n",
              "                                            Features  \n",
              "0  Host Has Profile Pic,Host Identity Verified,Is...  \n",
              "1  Host Has Profile Pic,Host Identity Verified,Is...  \n",
              "2  Host Has Profile Pic,Host Identity Verified,Is...  \n",
              "3  Host Is Superhost,Host Has Profile Pic,Host Id...  \n",
              "4  Host Is Superhost,Host Has Profile Pic,Host Id...  \n",
              "\n",
              "[5 rows x 89 columns]"
            ],
            "text/html": [
              "\n",
              "  <div id=\"df-d739bf7c-d155-4d2f-99d5-ed0930fc46ae\">\n",
              "    <div class=\"colab-df-container\">\n",
              "      <div>\n",
              "<style scoped>\n",
              "    .dataframe tbody tr th:only-of-type {\n",
              "        vertical-align: middle;\n",
              "    }\n",
              "\n",
              "    .dataframe tbody tr th {\n",
              "        vertical-align: top;\n",
              "    }\n",
              "\n",
              "    .dataframe thead th {\n",
              "        text-align: right;\n",
              "    }\n",
              "</style>\n",
              "<table border=\"1\" class=\"dataframe\">\n",
              "  <thead>\n",
              "    <tr style=\"text-align: right;\">\n",
              "      <th></th>\n",
              "      <th>ID</th>\n",
              "      <th>Listing Url</th>\n",
              "      <th>Scrape ID</th>\n",
              "      <th>Last Scraped</th>\n",
              "      <th>Name</th>\n",
              "      <th>Summary</th>\n",
              "      <th>Space</th>\n",
              "      <th>Description</th>\n",
              "      <th>Experiences Offered</th>\n",
              "      <th>Neighborhood Overview</th>\n",
              "      <th>...</th>\n",
              "      <th>Review Scores Communication</th>\n",
              "      <th>Review Scores Location</th>\n",
              "      <th>Review Scores Value</th>\n",
              "      <th>License</th>\n",
              "      <th>Jurisdiction Names</th>\n",
              "      <th>Cancellation Policy</th>\n",
              "      <th>Calculated host listings count</th>\n",
              "      <th>Reviews per Month</th>\n",
              "      <th>Geolocation</th>\n",
              "      <th>Features</th>\n",
              "    </tr>\n",
              "  </thead>\n",
              "  <tbody>\n",
              "    <tr>\n",
              "      <th>0</th>\n",
              "      <td>3150371</td>\n",
              "      <td>https://www.airbnb.com/rooms/3150371</td>\n",
              "      <td>20170407214119</td>\n",
              "      <td>2017-04-08</td>\n",
              "      <td>Double room + bathroom - La Latina</td>\n",
              "      <td>Double room with own bathroom in La Latina, in...</td>\n",
              "      <td>The apartment is spacious and cozy. It is 90 m...</td>\n",
              "      <td>Double room with own bathroom in La Latina, in...</td>\n",
              "      <td>none</td>\n",
              "      <td>La Latina is one of the most famous neighbourh...</td>\n",
              "      <td>...</td>\n",
              "      <td>10.0</td>\n",
              "      <td>10.0</td>\n",
              "      <td>10.0</td>\n",
              "      <td>NaN</td>\n",
              "      <td>NaN</td>\n",
              "      <td>flexible</td>\n",
              "      <td>1</td>\n",
              "      <td>2.33</td>\n",
              "      <td>40.41010608050749,-3.714754034177323</td>\n",
              "      <td>Host Has Profile Pic,Host Identity Verified,Is...</td>\n",
              "    </tr>\n",
              "    <tr>\n",
              "      <th>1</th>\n",
              "      <td>3378181</td>\n",
              "      <td>https://www.airbnb.com/rooms/3378181</td>\n",
              "      <td>20170407214119</td>\n",
              "      <td>2017-04-08</td>\n",
              "      <td>Ópera/Plz Mayor -- A/C, elevator</td>\n",
              "      <td>Old world charm meets modern comfort in our ne...</td>\n",
              "      <td>Designed with the traveler in mind, our one-be...</td>\n",
              "      <td>Old world charm meets modern comfort in our ne...</td>\n",
              "      <td>none</td>\n",
              "      <td>The neighborhood is steeped in history and clo...</td>\n",
              "      <td>...</td>\n",
              "      <td>10.0</td>\n",
              "      <td>10.0</td>\n",
              "      <td>10.0</td>\n",
              "      <td>NaN</td>\n",
              "      <td>NaN</td>\n",
              "      <td>strict</td>\n",
              "      <td>2</td>\n",
              "      <td>2.69</td>\n",
              "      <td>40.416968822636726,-3.7094389211089993</td>\n",
              "      <td>Host Has Profile Pic,Host Identity Verified,Is...</td>\n",
              "    </tr>\n",
              "    <tr>\n",
              "      <th>2</th>\n",
              "      <td>2070750</td>\n",
              "      <td>https://www.airbnb.com/rooms/2070750</td>\n",
              "      <td>20170407214119</td>\n",
              "      <td>2017-04-08</td>\n",
              "      <td>Centric room with a balcony</td>\n",
              "      <td>Lominous room for rent in the heart of the old...</td>\n",
              "      <td>Lominous room for rent in the heart of the old...</td>\n",
              "      <td>Lominous room for rent in the heart of the old...</td>\n",
              "      <td>none</td>\n",
              "      <td>-</td>\n",
              "      <td>...</td>\n",
              "      <td>9.0</td>\n",
              "      <td>10.0</td>\n",
              "      <td>9.0</td>\n",
              "      <td>NaN</td>\n",
              "      <td>NaN</td>\n",
              "      <td>flexible</td>\n",
              "      <td>4</td>\n",
              "      <td>0.60</td>\n",
              "      <td>40.40970517560235,-3.7135611928841086</td>\n",
              "      <td>Host Has Profile Pic,Host Identity Verified,Is...</td>\n",
              "    </tr>\n",
              "    <tr>\n",
              "      <th>3</th>\n",
              "      <td>9832499</td>\n",
              "      <td>https://www.airbnb.com/rooms/9832499</td>\n",
              "      <td>20170407214119</td>\n",
              "      <td>2017-04-08</td>\n",
              "      <td>PLAZA DE ESPAÑA - Único - Gimnasio.</td>\n",
              "      <td>Ubicado en el famoso edificio Torre de Madrid,...</td>\n",
              "      <td>Ubicado en el famoso edificio Torre de Madrid,...</td>\n",
              "      <td>Ubicado en el famoso edificio Torre de Madrid,...</td>\n",
              "      <td>none</td>\n",
              "      <td>NaN</td>\n",
              "      <td>...</td>\n",
              "      <td>10.0</td>\n",
              "      <td>10.0</td>\n",
              "      <td>10.0</td>\n",
              "      <td>VT-1520</td>\n",
              "      <td>NaN</td>\n",
              "      <td>strict</td>\n",
              "      <td>9</td>\n",
              "      <td>3.56</td>\n",
              "      <td>40.42319271738103,-3.7112486513892</td>\n",
              "      <td>Host Is Superhost,Host Has Profile Pic,Host Id...</td>\n",
              "    </tr>\n",
              "    <tr>\n",
              "      <th>4</th>\n",
              "      <td>1868170</td>\n",
              "      <td>https://www.airbnb.com/rooms/1868170</td>\n",
              "      <td>20170407214119</td>\n",
              "      <td>2017-04-08</td>\n",
              "      <td>Loft/duplex 150m2, 3 double rooms</td>\n",
              "      <td>Huge, open plan spacious apartment in the cent...</td>\n",
              "      <td>Huge, open plan spacious apartment in the cent...</td>\n",
              "      <td>Huge, open plan spacious apartment in the cent...</td>\n",
              "      <td>none</td>\n",
              "      <td>NaN</td>\n",
              "      <td>...</td>\n",
              "      <td>10.0</td>\n",
              "      <td>10.0</td>\n",
              "      <td>9.0</td>\n",
              "      <td>NaN</td>\n",
              "      <td>NaN</td>\n",
              "      <td>moderate</td>\n",
              "      <td>1</td>\n",
              "      <td>1.13</td>\n",
              "      <td>40.416513932601625,-3.7178427529546973</td>\n",
              "      <td>Host Is Superhost,Host Has Profile Pic,Host Id...</td>\n",
              "    </tr>\n",
              "  </tbody>\n",
              "</table>\n",
              "<p>5 rows × 89 columns</p>\n",
              "</div>\n",
              "      <button class=\"colab-df-convert\" onclick=\"convertToInteractive('df-d739bf7c-d155-4d2f-99d5-ed0930fc46ae')\"\n",
              "              title=\"Convert this dataframe to an interactive table.\"\n",
              "              style=\"display:none;\">\n",
              "        \n",
              "  <svg xmlns=\"http://www.w3.org/2000/svg\" height=\"24px\"viewBox=\"0 0 24 24\"\n",
              "       width=\"24px\">\n",
              "    <path d=\"M0 0h24v24H0V0z\" fill=\"none\"/>\n",
              "    <path d=\"M18.56 5.44l.94 2.06.94-2.06 2.06-.94-2.06-.94-.94-2.06-.94 2.06-2.06.94zm-11 1L8.5 8.5l.94-2.06 2.06-.94-2.06-.94L8.5 2.5l-.94 2.06-2.06.94zm10 10l.94 2.06.94-2.06 2.06-.94-2.06-.94-.94-2.06-.94 2.06-2.06.94z\"/><path d=\"M17.41 7.96l-1.37-1.37c-.4-.4-.92-.59-1.43-.59-.52 0-1.04.2-1.43.59L10.3 9.45l-7.72 7.72c-.78.78-.78 2.05 0 2.83L4 21.41c.39.39.9.59 1.41.59.51 0 1.02-.2 1.41-.59l7.78-7.78 2.81-2.81c.8-.78.8-2.07 0-2.86zM5.41 20L4 18.59l7.72-7.72 1.47 1.35L5.41 20z\"/>\n",
              "  </svg>\n",
              "      </button>\n",
              "      \n",
              "  <style>\n",
              "    .colab-df-container {\n",
              "      display:flex;\n",
              "      flex-wrap:wrap;\n",
              "      gap: 12px;\n",
              "    }\n",
              "\n",
              "    .colab-df-convert {\n",
              "      background-color: #E8F0FE;\n",
              "      border: none;\n",
              "      border-radius: 50%;\n",
              "      cursor: pointer;\n",
              "      display: none;\n",
              "      fill: #1967D2;\n",
              "      height: 32px;\n",
              "      padding: 0 0 0 0;\n",
              "      width: 32px;\n",
              "    }\n",
              "\n",
              "    .colab-df-convert:hover {\n",
              "      background-color: #E2EBFA;\n",
              "      box-shadow: 0px 1px 2px rgba(60, 64, 67, 0.3), 0px 1px 3px 1px rgba(60, 64, 67, 0.15);\n",
              "      fill: #174EA6;\n",
              "    }\n",
              "\n",
              "    [theme=dark] .colab-df-convert {\n",
              "      background-color: #3B4455;\n",
              "      fill: #D2E3FC;\n",
              "    }\n",
              "\n",
              "    [theme=dark] .colab-df-convert:hover {\n",
              "      background-color: #434B5C;\n",
              "      box-shadow: 0px 1px 3px 1px rgba(0, 0, 0, 0.15);\n",
              "      filter: drop-shadow(0px 1px 2px rgba(0, 0, 0, 0.3));\n",
              "      fill: #FFFFFF;\n",
              "    }\n",
              "  </style>\n",
              "\n",
              "      <script>\n",
              "        const buttonEl =\n",
              "          document.querySelector('#df-d739bf7c-d155-4d2f-99d5-ed0930fc46ae button.colab-df-convert');\n",
              "        buttonEl.style.display =\n",
              "          google.colab.kernel.accessAllowed ? 'block' : 'none';\n",
              "\n",
              "        async function convertToInteractive(key) {\n",
              "          const element = document.querySelector('#df-d739bf7c-d155-4d2f-99d5-ed0930fc46ae');\n",
              "          const dataTable =\n",
              "            await google.colab.kernel.invokeFunction('convertToInteractive',\n",
              "                                                     [key], {});\n",
              "          if (!dataTable) return;\n",
              "\n",
              "          const docLinkHtml = 'Like what you see? Visit the ' +\n",
              "            '<a target=\"_blank\" href=https://colab.research.google.com/notebooks/data_table.ipynb>data table notebook</a>'\n",
              "            + ' to learn more about interactive tables.';\n",
              "          element.innerHTML = '';\n",
              "          dataTable['output_type'] = 'display_data';\n",
              "          await google.colab.output.renderOutput(dataTable, element);\n",
              "          const docLink = document.createElement('div');\n",
              "          docLink.innerHTML = docLinkHtml;\n",
              "          element.appendChild(docLink);\n",
              "        }\n",
              "      </script>\n",
              "    </div>\n",
              "  </div>\n",
              "  "
            ]
          },
          "metadata": {},
          "execution_count": 149
        }
      ]
    },
    {
      "cell_type": "code",
      "source": [
        "#comprobamos el tamaño del data set inicial\n",
        "data.shape"
      ],
      "metadata": {
        "colab": {
          "base_uri": "https://localhost:8080/"
        },
        "id": "tjctCObvYoJw",
        "outputId": "4334972c-91bf-4b4d-caab-cfe99ff8aa70"
      },
      "execution_count": 150,
      "outputs": [
        {
          "output_type": "execute_result",
          "data": {
            "text/plain": [
              "(14001, 89)"
            ]
          },
          "metadata": {},
          "execution_count": 150
        }
      ]
    },
    {
      "cell_type": "code",
      "source": [
        "#listamos las columnas\n",
        "data.columns"
      ],
      "metadata": {
        "colab": {
          "base_uri": "https://localhost:8080/"
        },
        "id": "Dx5jLk8pYvaV",
        "outputId": "60480908-699c-4b05-ac32-4638df4aa38e"
      },
      "execution_count": 151,
      "outputs": [
        {
          "output_type": "execute_result",
          "data": {
            "text/plain": [
              "Index(['ID', 'Listing Url', 'Scrape ID', 'Last Scraped', 'Name', 'Summary',\n",
              "       'Space', 'Description', 'Experiences Offered', 'Neighborhood Overview',\n",
              "       'Notes', 'Transit', 'Access', 'Interaction', 'House Rules',\n",
              "       'Thumbnail Url', 'Medium Url', 'Picture Url', 'XL Picture Url',\n",
              "       'Host ID', 'Host URL', 'Host Name', 'Host Since', 'Host Location',\n",
              "       'Host About', 'Host Response Time', 'Host Response Rate',\n",
              "       'Host Acceptance Rate', 'Host Thumbnail Url', 'Host Picture Url',\n",
              "       'Host Neighbourhood', 'Host Listings Count',\n",
              "       'Host Total Listings Count', 'Host Verifications', 'Street',\n",
              "       'Neighbourhood', 'Neighbourhood Cleansed',\n",
              "       'Neighbourhood Group Cleansed', 'City', 'State', 'Zipcode', 'Market',\n",
              "       'Smart Location', 'Country Code', 'Country', 'Latitude', 'Longitude',\n",
              "       'Property Type', 'Room Type', 'Accommodates', 'Bathrooms', 'Bedrooms',\n",
              "       'Beds', 'Bed Type', 'Amenities', 'Square Feet', 'Price', 'Weekly Price',\n",
              "       'Monthly Price', 'Security Deposit', 'Cleaning Fee', 'Guests Included',\n",
              "       'Extra People', 'Minimum Nights', 'Maximum Nights', 'Calendar Updated',\n",
              "       'Has Availability', 'Availability 30', 'Availability 60',\n",
              "       'Availability 90', 'Availability 365', 'Calendar last Scraped',\n",
              "       'Number of Reviews', 'First Review', 'Last Review',\n",
              "       'Review Scores Rating', 'Review Scores Accuracy',\n",
              "       'Review Scores Cleanliness', 'Review Scores Checkin',\n",
              "       'Review Scores Communication', 'Review Scores Location',\n",
              "       'Review Scores Value', 'License', 'Jurisdiction Names',\n",
              "       'Cancellation Policy', 'Calculated host listings count',\n",
              "       'Reviews per Month', 'Geolocation', 'Features'],\n",
              "      dtype='object')"
            ]
          },
          "metadata": {},
          "execution_count": 151
        }
      ]
    },
    {
      "cell_type": "code",
      "source": [
        "#metodo que utilizaremos para elimianr columanas del data frame\n",
        "def drop_colums_dataframe(df, drop_colums):\n",
        "    \n",
        "    df = df.drop(drop_colums, axis=1)\n",
        "    \n",
        "    return df"
      ],
      "metadata": {
        "id": "kUdSq7vwlm5W"
      },
      "execution_count": 152,
      "outputs": []
    },
    {
      "cell_type": "code",
      "source": [
        "print(f'El juego de datos con el que comenzamos a trabajar tiene:')\n",
        "print(f'- {data.shape[0]} filas')\n",
        "print(f'- {data.shape[1]} columnas')"
      ],
      "metadata": {
        "colab": {
          "base_uri": "https://localhost:8080/"
        },
        "id": "nH6W6yyegzpc",
        "outputId": "4a70d490-d40d-4fbf-87ec-d49871c35b20"
      },
      "execution_count": 153,
      "outputs": [
        {
          "output_type": "stream",
          "name": "stdout",
          "text": [
            "El juego de datos con el que comenzamos a trabajar tiene:\n",
            "- 14001 filas\n",
            "- 89 columnas\n"
          ]
        }
      ]
    },
    {
      "cell_type": "code",
      "source": [
        "#Comprobamos que tipo de datos tenemos en las columnas \n",
        "data.info()"
      ],
      "metadata": {
        "colab": {
          "base_uri": "https://localhost:8080/"
        },
        "id": "ham_OiMC_YIQ",
        "outputId": "4096391f-82b5-4aa5-9ff3-9d14e7ddb005"
      },
      "execution_count": 154,
      "outputs": [
        {
          "output_type": "stream",
          "name": "stdout",
          "text": [
            "<class 'pandas.core.frame.DataFrame'>\n",
            "RangeIndex: 14001 entries, 0 to 14000\n",
            "Data columns (total 89 columns):\n",
            " #   Column                          Non-Null Count  Dtype  \n",
            "---  ------                          --------------  -----  \n",
            " 0   ID                              14001 non-null  int64  \n",
            " 1   Listing Url                     14001 non-null  object \n",
            " 2   Scrape ID                       14001 non-null  int64  \n",
            " 3   Last Scraped                    14001 non-null  object \n",
            " 4   Name                            14001 non-null  object \n",
            " 5   Summary                         13451 non-null  object \n",
            " 6   Space                           10306 non-null  object \n",
            " 7   Description                     13995 non-null  object \n",
            " 8   Experiences Offered             14001 non-null  object \n",
            " 9   Neighborhood Overview           8630 non-null   object \n",
            " 10  Notes                           5288 non-null   object \n",
            " 11  Transit                         8552 non-null   object \n",
            " 12  Access                          7862 non-null   object \n",
            " 13  Interaction                     7789 non-null   object \n",
            " 14  House Rules                     9125 non-null   object \n",
            " 15  Thumbnail Url                   11289 non-null  object \n",
            " 16  Medium Url                      11289 non-null  object \n",
            " 17  Picture Url                     13972 non-null  object \n",
            " 18  XL Picture Url                  11289 non-null  object \n",
            " 19  Host ID                         14001 non-null  int64  \n",
            " 20  Host URL                        14001 non-null  object \n",
            " 21  Host Name                       13998 non-null  object \n",
            " 22  Host Since                      13998 non-null  object \n",
            " 23  Host Location                   13959 non-null  object \n",
            " 24  Host About                      8875 non-null   object \n",
            " 25  Host Response Time              12254 non-null  object \n",
            " 26  Host Response Rate              12254 non-null  float64\n",
            " 27  Host Acceptance Rate            0 non-null      float64\n",
            " 28  Host Thumbnail Url              13998 non-null  object \n",
            " 29  Host Picture Url                13998 non-null  object \n",
            " 30  Host Neighbourhood              10292 non-null  object \n",
            " 31  Host Listings Count             13998 non-null  float64\n",
            " 32  Host Total Listings Count       13998 non-null  float64\n",
            " 33  Host Verifications              13995 non-null  object \n",
            " 34  Street                          14001 non-null  object \n",
            " 35  Neighbourhood                   8996 non-null   object \n",
            " 36  Neighbourhood Cleansed          14001 non-null  object \n",
            " 37  Neighbourhood Group Cleansed    13625 non-null  object \n",
            " 38  City                            13995 non-null  object \n",
            " 39  State                           13949 non-null  object \n",
            " 40  Zipcode                         13540 non-null  object \n",
            " 41  Market                          13951 non-null  object \n",
            " 42  Smart Location                  14001 non-null  object \n",
            " 43  Country Code                    14001 non-null  object \n",
            " 44  Country                         14001 non-null  object \n",
            " 45  Latitude                        14001 non-null  float64\n",
            " 46  Longitude                       14001 non-null  float64\n",
            " 47  Property Type                   14001 non-null  object \n",
            " 48  Room Type                       14001 non-null  object \n",
            " 49  Accommodates                    14001 non-null  int64  \n",
            " 50  Bathrooms                       13949 non-null  float64\n",
            " 51  Bedrooms                        13977 non-null  float64\n",
            " 52  Beds                            13952 non-null  float64\n",
            " 53  Bed Type                        14001 non-null  object \n",
            " 54  Amenities                       13837 non-null  object \n",
            " 55  Square Feet                     569 non-null    float64\n",
            " 56  Price                           13990 non-null  float64\n",
            " 57  Weekly Price                    3407 non-null   float64\n",
            " 58  Monthly Price                   3379 non-null   float64\n",
            " 59  Security Deposit                5934 non-null   float64\n",
            " 60  Cleaning Fee                    8153 non-null   float64\n",
            " 61  Guests Included                 14001 non-null  int64  \n",
            " 62  Extra People                    14001 non-null  int64  \n",
            " 63  Minimum Nights                  14001 non-null  int64  \n",
            " 64  Maximum Nights                  14001 non-null  int64  \n",
            " 65  Calendar Updated                14001 non-null  object \n",
            " 66  Has Availability                0 non-null      float64\n",
            " 67  Availability 30                 14001 non-null  int64  \n",
            " 68  Availability 60                 14001 non-null  int64  \n",
            " 69  Availability 90                 14001 non-null  int64  \n",
            " 70  Availability 365                14001 non-null  int64  \n",
            " 71  Calendar last Scraped           14001 non-null  object \n",
            " 72  Number of Reviews               14001 non-null  int64  \n",
            " 73  First Review                    10994 non-null  object \n",
            " 74  Last Review                     10993 non-null  object \n",
            " 75  Review Scores Rating            10863 non-null  float64\n",
            " 76  Review Scores Accuracy          10842 non-null  float64\n",
            " 77  Review Scores Cleanliness       10848 non-null  float64\n",
            " 78  Review Scores Checkin           10832 non-null  float64\n",
            " 79  Review Scores Communication     10848 non-null  float64\n",
            " 80  Review Scores Location          10830 non-null  float64\n",
            " 81  Review Scores Value             10828 non-null  float64\n",
            " 82  License                         333 non-null    object \n",
            " 83  Jurisdiction Names              0 non-null      float64\n",
            " 84  Cancellation Policy             14001 non-null  object \n",
            " 85  Calculated host listings count  14001 non-null  int64  \n",
            " 86  Reviews per Month               10994 non-null  float64\n",
            " 87  Geolocation                     14001 non-null  object \n",
            " 88  Features                        14001 non-null  object \n",
            "dtypes: float64(25), int64(14), object(50)\n",
            "memory usage: 9.5+ MB\n"
          ]
        }
      ]
    },
    {
      "cell_type": "code",
      "source": [
        "#eliminamos las siguientes columnas que considero que no aportan\n",
        "drop_colum = ['ID','Scrape ID','Last Scraped','Name','Summary','Space','Description','Neighborhood Overview','Host Total Listings Count',\n",
        "             'Notes','Transit','Access','Interaction','House Rules','Listing Url','Medium Url','Picture Url','XL Picture Url','Host ID',\n",
        "             'Host URL','Host Name','Host Since','Host Location','Host About','Host Response Time','Host Response Rate','Host Acceptance Rate','Host Thumbnail Url','Host Picture Url',\n",
        "             'Host Neighbourhood','Host Listings Count','Host Verifications','Street','Neighbourhood','Neighbourhood Group Cleansed',\n",
        "             'City', 'State', 'Zipcode', 'Market','Smart Location','Country Code', 'Country', 'Latitude', 'Longitude','Amenities','Weekly Price','Monthly Price','Security Deposit',\n",
        "             'Calendar Updated','Has Availability','Availability 30','Availability 60','Availability 90',\n",
        "             'Availability 365','Calendar last Scraped','First Review','Last Review','Review Scores Accuracy','Review Scores Cleanliness','Review Scores Checkin','Review Scores Communication',\n",
        "             'Review Scores Location','Review Scores Value','License','Jurisdiction Names','Calculated host listings count','Reviews per Month','Geolocation','Features',\n",
        "             'Minimum Nights', 'Maximum Nights']\n",
        "\n",
        "data = drop_colums_dataframe(data, drop_colum)\n",
        "\n",
        "# tras uno de los comentarios que hiciste eliminé las columnas que yo no tenia eliminadas\n",
        "drop_colum2 = ['Experiences Offered','Neighbourhood Cleansed','Bed Type','Square Feet','Cleaning Fee','Review Scores Rating']\n",
        "data = drop_colums_dataframe(data, drop_colum2)"
      ],
      "metadata": {
        "id": "D_Gt4Q3gmC9I"
      },
      "execution_count": 155,
      "outputs": []
    },
    {
      "cell_type": "code",
      "source": [
        "# El nuevo tamaño es \n",
        "data.shape"
      ],
      "metadata": {
        "colab": {
          "base_uri": "https://localhost:8080/"
        },
        "id": "mwBzvku1khgK",
        "outputId": "b2651843-795a-40fa-a6f4-b7183a8612ae"
      },
      "execution_count": 156,
      "outputs": [
        {
          "output_type": "execute_result",
          "data": {
            "text/plain": [
              "(14001, 12)"
            ]
          },
          "metadata": {},
          "execution_count": 156
        }
      ]
    },
    {
      "cell_type": "code",
      "source": [
        "data.head()"
      ],
      "metadata": {
        "colab": {
          "base_uri": "https://localhost:8080/",
          "height": 392
        },
        "id": "cxMfAIC8mb5k",
        "outputId": "43306177-6bb4-483d-a7c3-70f28a628570"
      },
      "execution_count": 157,
      "outputs": [
        {
          "output_type": "execute_result",
          "data": {
            "text/plain": [
              "                                       Thumbnail Url Property Type  \\\n",
              "0  https://a0.muscache.com/im/pictures/40713802/3...     Apartment   \n",
              "1  https://a0.muscache.com/im/pictures/44239584/c...     Apartment   \n",
              "2  https://a0.muscache.com/im/pictures/84378550/f...     Apartment   \n",
              "3  https://a0.muscache.com/im/pictures/be441d1f-4...     Apartment   \n",
              "4  https://a0.muscache.com/im/pictures/c232f016-f...     Apartment   \n",
              "\n",
              "         Room Type  Accommodates  Bathrooms  Bedrooms  Beds  Price  \\\n",
              "0     Private room             2        1.0       1.0   1.0   36.0   \n",
              "1  Entire home/apt             2        1.0       1.0   1.0   85.0   \n",
              "2     Private room             2        1.0       1.0   1.0   20.0   \n",
              "3  Entire home/apt             4        1.0       1.0   2.0  112.0   \n",
              "4  Entire home/apt             8        3.0       3.0   4.0  190.0   \n",
              "\n",
              "   Guests Included  Extra People  Number of Reviews Cancellation Policy  \n",
              "0                1             0                 80            flexible  \n",
              "1                1             0                 90              strict  \n",
              "2                1            10                 20            flexible  \n",
              "3                2             5                 55              strict  \n",
              "4                6            40                 46            moderate  "
            ],
            "text/html": [
              "\n",
              "  <div id=\"df-ea91d63b-4d33-4e90-943f-473a8f5ffff2\">\n",
              "    <div class=\"colab-df-container\">\n",
              "      <div>\n",
              "<style scoped>\n",
              "    .dataframe tbody tr th:only-of-type {\n",
              "        vertical-align: middle;\n",
              "    }\n",
              "\n",
              "    .dataframe tbody tr th {\n",
              "        vertical-align: top;\n",
              "    }\n",
              "\n",
              "    .dataframe thead th {\n",
              "        text-align: right;\n",
              "    }\n",
              "</style>\n",
              "<table border=\"1\" class=\"dataframe\">\n",
              "  <thead>\n",
              "    <tr style=\"text-align: right;\">\n",
              "      <th></th>\n",
              "      <th>Thumbnail Url</th>\n",
              "      <th>Property Type</th>\n",
              "      <th>Room Type</th>\n",
              "      <th>Accommodates</th>\n",
              "      <th>Bathrooms</th>\n",
              "      <th>Bedrooms</th>\n",
              "      <th>Beds</th>\n",
              "      <th>Price</th>\n",
              "      <th>Guests Included</th>\n",
              "      <th>Extra People</th>\n",
              "      <th>Number of Reviews</th>\n",
              "      <th>Cancellation Policy</th>\n",
              "    </tr>\n",
              "  </thead>\n",
              "  <tbody>\n",
              "    <tr>\n",
              "      <th>0</th>\n",
              "      <td>https://a0.muscache.com/im/pictures/40713802/3...</td>\n",
              "      <td>Apartment</td>\n",
              "      <td>Private room</td>\n",
              "      <td>2</td>\n",
              "      <td>1.0</td>\n",
              "      <td>1.0</td>\n",
              "      <td>1.0</td>\n",
              "      <td>36.0</td>\n",
              "      <td>1</td>\n",
              "      <td>0</td>\n",
              "      <td>80</td>\n",
              "      <td>flexible</td>\n",
              "    </tr>\n",
              "    <tr>\n",
              "      <th>1</th>\n",
              "      <td>https://a0.muscache.com/im/pictures/44239584/c...</td>\n",
              "      <td>Apartment</td>\n",
              "      <td>Entire home/apt</td>\n",
              "      <td>2</td>\n",
              "      <td>1.0</td>\n",
              "      <td>1.0</td>\n",
              "      <td>1.0</td>\n",
              "      <td>85.0</td>\n",
              "      <td>1</td>\n",
              "      <td>0</td>\n",
              "      <td>90</td>\n",
              "      <td>strict</td>\n",
              "    </tr>\n",
              "    <tr>\n",
              "      <th>2</th>\n",
              "      <td>https://a0.muscache.com/im/pictures/84378550/f...</td>\n",
              "      <td>Apartment</td>\n",
              "      <td>Private room</td>\n",
              "      <td>2</td>\n",
              "      <td>1.0</td>\n",
              "      <td>1.0</td>\n",
              "      <td>1.0</td>\n",
              "      <td>20.0</td>\n",
              "      <td>1</td>\n",
              "      <td>10</td>\n",
              "      <td>20</td>\n",
              "      <td>flexible</td>\n",
              "    </tr>\n",
              "    <tr>\n",
              "      <th>3</th>\n",
              "      <td>https://a0.muscache.com/im/pictures/be441d1f-4...</td>\n",
              "      <td>Apartment</td>\n",
              "      <td>Entire home/apt</td>\n",
              "      <td>4</td>\n",
              "      <td>1.0</td>\n",
              "      <td>1.0</td>\n",
              "      <td>2.0</td>\n",
              "      <td>112.0</td>\n",
              "      <td>2</td>\n",
              "      <td>5</td>\n",
              "      <td>55</td>\n",
              "      <td>strict</td>\n",
              "    </tr>\n",
              "    <tr>\n",
              "      <th>4</th>\n",
              "      <td>https://a0.muscache.com/im/pictures/c232f016-f...</td>\n",
              "      <td>Apartment</td>\n",
              "      <td>Entire home/apt</td>\n",
              "      <td>8</td>\n",
              "      <td>3.0</td>\n",
              "      <td>3.0</td>\n",
              "      <td>4.0</td>\n",
              "      <td>190.0</td>\n",
              "      <td>6</td>\n",
              "      <td>40</td>\n",
              "      <td>46</td>\n",
              "      <td>moderate</td>\n",
              "    </tr>\n",
              "  </tbody>\n",
              "</table>\n",
              "</div>\n",
              "      <button class=\"colab-df-convert\" onclick=\"convertToInteractive('df-ea91d63b-4d33-4e90-943f-473a8f5ffff2')\"\n",
              "              title=\"Convert this dataframe to an interactive table.\"\n",
              "              style=\"display:none;\">\n",
              "        \n",
              "  <svg xmlns=\"http://www.w3.org/2000/svg\" height=\"24px\"viewBox=\"0 0 24 24\"\n",
              "       width=\"24px\">\n",
              "    <path d=\"M0 0h24v24H0V0z\" fill=\"none\"/>\n",
              "    <path d=\"M18.56 5.44l.94 2.06.94-2.06 2.06-.94-2.06-.94-.94-2.06-.94 2.06-2.06.94zm-11 1L8.5 8.5l.94-2.06 2.06-.94-2.06-.94L8.5 2.5l-.94 2.06-2.06.94zm10 10l.94 2.06.94-2.06 2.06-.94-2.06-.94-.94-2.06-.94 2.06-2.06.94z\"/><path d=\"M17.41 7.96l-1.37-1.37c-.4-.4-.92-.59-1.43-.59-.52 0-1.04.2-1.43.59L10.3 9.45l-7.72 7.72c-.78.78-.78 2.05 0 2.83L4 21.41c.39.39.9.59 1.41.59.51 0 1.02-.2 1.41-.59l7.78-7.78 2.81-2.81c.8-.78.8-2.07 0-2.86zM5.41 20L4 18.59l7.72-7.72 1.47 1.35L5.41 20z\"/>\n",
              "  </svg>\n",
              "      </button>\n",
              "      \n",
              "  <style>\n",
              "    .colab-df-container {\n",
              "      display:flex;\n",
              "      flex-wrap:wrap;\n",
              "      gap: 12px;\n",
              "    }\n",
              "\n",
              "    .colab-df-convert {\n",
              "      background-color: #E8F0FE;\n",
              "      border: none;\n",
              "      border-radius: 50%;\n",
              "      cursor: pointer;\n",
              "      display: none;\n",
              "      fill: #1967D2;\n",
              "      height: 32px;\n",
              "      padding: 0 0 0 0;\n",
              "      width: 32px;\n",
              "    }\n",
              "\n",
              "    .colab-df-convert:hover {\n",
              "      background-color: #E2EBFA;\n",
              "      box-shadow: 0px 1px 2px rgba(60, 64, 67, 0.3), 0px 1px 3px 1px rgba(60, 64, 67, 0.15);\n",
              "      fill: #174EA6;\n",
              "    }\n",
              "\n",
              "    [theme=dark] .colab-df-convert {\n",
              "      background-color: #3B4455;\n",
              "      fill: #D2E3FC;\n",
              "    }\n",
              "\n",
              "    [theme=dark] .colab-df-convert:hover {\n",
              "      background-color: #434B5C;\n",
              "      box-shadow: 0px 1px 3px 1px rgba(0, 0, 0, 0.15);\n",
              "      filter: drop-shadow(0px 1px 2px rgba(0, 0, 0, 0.3));\n",
              "      fill: #FFFFFF;\n",
              "    }\n",
              "  </style>\n",
              "\n",
              "      <script>\n",
              "        const buttonEl =\n",
              "          document.querySelector('#df-ea91d63b-4d33-4e90-943f-473a8f5ffff2 button.colab-df-convert');\n",
              "        buttonEl.style.display =\n",
              "          google.colab.kernel.accessAllowed ? 'block' : 'none';\n",
              "\n",
              "        async function convertToInteractive(key) {\n",
              "          const element = document.querySelector('#df-ea91d63b-4d33-4e90-943f-473a8f5ffff2');\n",
              "          const dataTable =\n",
              "            await google.colab.kernel.invokeFunction('convertToInteractive',\n",
              "                                                     [key], {});\n",
              "          if (!dataTable) return;\n",
              "\n",
              "          const docLinkHtml = 'Like what you see? Visit the ' +\n",
              "            '<a target=\"_blank\" href=https://colab.research.google.com/notebooks/data_table.ipynb>data table notebook</a>'\n",
              "            + ' to learn more about interactive tables.';\n",
              "          element.innerHTML = '';\n",
              "          dataTable['output_type'] = 'display_data';\n",
              "          await google.colab.output.renderOutput(dataTable, element);\n",
              "          const docLink = document.createElement('div');\n",
              "          docLink.innerHTML = docLinkHtml;\n",
              "          element.appendChild(docLink);\n",
              "        }\n",
              "      </script>\n",
              "    </div>\n",
              "  </div>\n",
              "  "
            ]
          },
          "metadata": {},
          "execution_count": 157
        }
      ]
    },
    {
      "cell_type": "code",
      "source": [
        "# miramos las columnas que contienen valores NaN\n",
        "data.isnull().sum(axis=0)"
      ],
      "metadata": {
        "colab": {
          "base_uri": "https://localhost:8080/"
        },
        "id": "T-87Zj3LlJeL",
        "outputId": "3ead5104-1f2b-4b11-ec2e-9ce34b61dda3"
      },
      "execution_count": 158,
      "outputs": [
        {
          "output_type": "execute_result",
          "data": {
            "text/plain": [
              "Thumbnail Url          2712\n",
              "Property Type             0\n",
              "Room Type                 0\n",
              "Accommodates              0\n",
              "Bathrooms                52\n",
              "Bedrooms                 24\n",
              "Beds                     49\n",
              "Price                    11\n",
              "Guests Included           0\n",
              "Extra People              0\n",
              "Number of Reviews         0\n",
              "Cancellation Policy       0\n",
              "dtype: int64"
            ]
          },
          "metadata": {},
          "execution_count": 158
        }
      ]
    },
    {
      "cell_type": "code",
      "source": [
        "#Las variables que contienen NaN vamos a utilizar la moda para inicializarlos\n",
        "data = data.fillna(value={\"Bathrooms\":data[\"Bathrooms\"].mode()[0]})\n",
        "data = data.fillna(value={\"Bedrooms\":data[\"Bedrooms\"].mode()[0]})\n",
        "data = data.fillna(value={\"Beds\":data[\"Beds\"].mode()[0]})\n",
        "data = data.fillna(value={\"Price\":data[\"Price\"].mode()[0]})\n",
        "\n",
        "#las que no tienen imagen las eliminamos tambien\n",
        "data = data.dropna()"
      ],
      "metadata": {
        "id": "SJOq3_uM4KkR"
      },
      "execution_count": 159,
      "outputs": []
    },
    {
      "cell_type": "code",
      "source": [
        "#comprobamos que no hay valores NaN\n",
        "data.isnull().sum(axis=0)"
      ],
      "metadata": {
        "colab": {
          "base_uri": "https://localhost:8080/"
        },
        "id": "QLfwDLvJBGW-",
        "outputId": "bf1ba2ba-d612-4e82-cb90-23370ffc6b04"
      },
      "execution_count": 160,
      "outputs": [
        {
          "output_type": "execute_result",
          "data": {
            "text/plain": [
              "Thumbnail Url          0\n",
              "Property Type          0\n",
              "Room Type              0\n",
              "Accommodates           0\n",
              "Bathrooms              0\n",
              "Bedrooms               0\n",
              "Beds                   0\n",
              "Price                  0\n",
              "Guests Included        0\n",
              "Extra People           0\n",
              "Number of Reviews      0\n",
              "Cancellation Policy    0\n",
              "dtype: int64"
            ]
          },
          "metadata": {},
          "execution_count": 160
        }
      ]
    },
    {
      "cell_type": "code",
      "source": [
        "# el nuevo tamaño es\n",
        "data.shape"
      ],
      "metadata": {
        "colab": {
          "base_uri": "https://localhost:8080/"
        },
        "id": "T84iNTjR_X8C",
        "outputId": "43d45574-2753-4c93-aba3-5132ce07065c"
      },
      "execution_count": 161,
      "outputs": [
        {
          "output_type": "execute_result",
          "data": {
            "text/plain": [
              "(11289, 12)"
            ]
          },
          "metadata": {},
          "execution_count": 161
        }
      ]
    },
    {
      "cell_type": "code",
      "source": [
        "#comprobaremos la distribucion de los datos de las variables seleccionadas\n",
        "#y nos quedaremos con valores que aporten al conjunto, los valores que se repiten poco los eliminamo\n",
        "def delete_data (df, uniques, counts, var, limit):\n",
        "  for (uniques, count) in zip(uniques, counts):\n",
        "    if count < limit:\n",
        "      idxs = df[df[var] == uniques].index\n",
        "      df.drop(idxs, inplace=True)\n",
        "  return df\n",
        "\n",
        "\n",
        "propertyTypes = data[\"Property Type\"].value_counts().keys().tolist()\n",
        "propertyTypeCounts = data[\"Property Type\"].value_counts().tolist()\n",
        "print(f'Tipos de propiedades: {propertyTypes}')\n",
        "print(f'Cantidad: {propertyTypeCounts}')\n",
        "\n",
        "data = delete_data(data, propertyTypes, propertyTypeCounts, \"Property Type\", 100)\n",
        "\n",
        "\n",
        "\n",
        "roomType = data[\"Room Type\"].value_counts().keys().tolist()\n",
        "roomTypeCounts = data[\"Room Type\"].value_counts().tolist()\n",
        "print(f'Tipos de habitacion: {roomType}')\n",
        "print(f'Cantidad: {roomTypeCounts}')\n",
        "\n",
        "\n",
        "\n",
        "accommodates = data[\"Accommodates\"].value_counts().keys().tolist()\n",
        "accommodatesCounts = data[\"Accommodates\"].value_counts().tolist()\n",
        "print(f'Número de inquilinos: {accommodates}')\n",
        "print(f'Cantidad: {accommodatesCounts}')\n",
        "\n",
        "data = delete_data(data, accommodates, accommodatesCounts, \"Accommodates\", 100)\n",
        "\n",
        "\n",
        "\n",
        "bathrooms = data[\"Bathrooms\"].value_counts().keys().tolist()\n",
        "bathroomsCounts = data[\"Bathrooms\"].value_counts().tolist()\n",
        "print(f'Número de baños: {bathrooms}')\n",
        "print(f'Cantidad: {bathroomsCounts}')\n",
        "\n",
        "data = delete_data(data, bathrooms, bathroomsCounts, \"Bathrooms\", 100)\n",
        "\n",
        "\n",
        "\n",
        "bedrooms = data[\"Bedrooms\"].value_counts().keys().tolist()\n",
        "bedroomsCounts = data[\"Bedrooms\"].value_counts().tolist()\n",
        "print(f'Número de habitaciones: {bedrooms}')\n",
        "print(f'Cantidad: {bedroomsCounts}')\n",
        "\n",
        "data = delete_data(data, bedrooms, bedroomsCounts, \"Bedrooms\", 100)\n",
        "\n",
        "\n",
        "\n",
        "beds = data[\"Beds\"].value_counts().keys().tolist()\n",
        "bedsCounts = data[\"Beds\"].value_counts().tolist()\n",
        "print(f'Número de camas: {beds}')\n",
        "print(f'Cantidad: {bedsCounts}')\n",
        "\n",
        "data = delete_data(data, beds, bedsCounts, \"Beds\", 100)\n",
        "\n",
        "\n",
        "\n",
        "guestsIncluded = data[\"Guests Included\"].value_counts().keys().tolist()\n",
        "guestsIncludedCounts = data[\"Guests Included\"].value_counts().tolist()\n",
        "print(f'Invitados incluidos: {guestsIncluded}')\n",
        "print(f'Cantidad: {guestsIncludedCounts}')\n",
        "\n",
        "data = delete_data(data, guestsIncluded, guestsIncludedCounts, \"Guests Included\", 100)\n",
        "\n",
        "\n",
        "\n",
        "extraPeople = data[\"Extra People\"].value_counts().keys().tolist()\n",
        "extraPeopleCounts = data[\"Extra People\"].value_counts().tolist()\n",
        "print(f'Persona extra: {extraPeople}')\n",
        "print(f'Cantidad: {extraPeopleCounts}')\n",
        "\n",
        "data = delete_data(data, extraPeople, extraPeopleCounts, \"Extra People\", 50)\n",
        "\n",
        "\n",
        "\n",
        "numberReviews = data[\"Number of Reviews\"].value_counts().keys().tolist()\n",
        "numberReviewsCounts = data[\"Number of Reviews\"].value_counts().tolist()\n",
        "print(f'Número de revisiones: {numberReviews}')\n",
        "print(f'Cantidad: {numberReviewsCounts}')\n",
        "\n",
        "data = delete_data(data, numberReviews, numberReviewsCounts, \"Number of Reviews\", 30)\n",
        "\n",
        "\n",
        "\n",
        "cancellationPolicy = data[\"Cancellation Policy\"].value_counts().keys().tolist()\n",
        "cancellationPolicyCounts = data[\"Cancellation Policy\"].value_counts().tolist()\n",
        "print(f'Politica de cancelación: {cancellationPolicy}')\n",
        "print(f'Cantidad: {cancellationPolicyCounts}')\n",
        "\n",
        "data = delete_data(data, cancellationPolicy, cancellationPolicyCounts, \"Cancellation Policy\", 50)"
      ],
      "metadata": {
        "colab": {
          "base_uri": "https://localhost:8080/"
        },
        "id": "swnWSUwYLukc",
        "outputId": "45482ca8-2f61-4feb-dd5e-de07165817c9"
      },
      "execution_count": 162,
      "outputs": [
        {
          "output_type": "stream",
          "name": "stdout",
          "text": [
            "Tipos de propiedades: ['Apartment', 'House', 'Bed & Breakfast', 'Condominium', 'Loft', 'Other', 'Guesthouse', 'Dorm', 'Chalet', 'Hostel', 'Serviced apartment', 'Townhouse', 'Villa', 'Boutique hotel', 'Casa particular', 'Earth House', 'Guest suite', 'Camper/RV', 'Timeshare', 'Boat', 'Bungalow', 'Tent']\n",
            "Cantidad: [9123, 960, 320, 297, 232, 191, 39, 35, 24, 16, 13, 10, 9, 6, 3, 3, 3, 1, 1, 1, 1, 1]\n",
            "Tipos de habitacion: ['Entire home/apt', 'Private room', 'Shared room']\n",
            "Cantidad: [6256, 4708, 159]\n",
            "Número de inquilinos: [2, 4, 1, 3, 6, 5, 8, 7, 10, 9, 12, 16, 11, 14, 13, 15]\n",
            "Cantidad: [4120, 2337, 1748, 1052, 840, 489, 212, 134, 69, 40, 36, 22, 12, 8, 3, 1]\n",
            "Número de baños: [1.0, 2.0, 1.5, 3.0, 2.5, 0.5, 0.0, 5.0, 4.0, 4.5, 6.0, 3.5, 5.5]\n",
            "Cantidad: [8436, 1665, 378, 177, 73, 52, 50, 36, 24, 16, 13, 10, 2]\n",
            "Número de habitaciones: [1.0, 2.0, 0.0, 3.0, 4.0, 5.0, 6.0]\n",
            "Cantidad: [7442, 1817, 706, 599, 84, 7, 1]\n",
            "Número de camas: [1.0, 2.0, 3.0, 4.0, 5.0, 6.0, 8.0, 7.0, 10.0]\n",
            "Cantidad: [5651, 2808, 1160, 618, 204, 83, 20, 19, 1]\n",
            "Invitados incluidos: [1, 2, 4, 3, 5, 6, 7, 16, 15, 10]\n",
            "Cantidad: [7009, 2530, 485, 289, 62, 55, 6, 2, 2, 1]\n",
            "Persona extra: [0, 10, 15, 20, 5, 12, 25, 8, 30, 18, 7, 17, 11, 6, 9, 19, 13, 35, 14, 16, 28, 40, 50, 39, 22, 23, 45, 42, 21, 27, 26, 24, 29, 32, 36, 105, 31, 70, 100, 63, 60, 271, 44, 150, 94, 276, 38, 65, 4, 37]\n",
            "Cantidad: [5381, 1428, 1066, 585, 433, 213, 190, 147, 108, 96, 86, 61, 60, 59, 54, 48, 39, 30, 30, 28, 22, 22, 19, 18, 10, 8, 7, 7, 6, 5, 5, 5, 4, 4, 4, 4, 3, 3, 2, 2, 2, 1, 1, 1, 1, 1, 1, 1, 1, 1]\n",
            "Número de revisiones: [0, 1, 2, 3, 4, 5, 6, 7, 8, 9, 10, 12, 11, 17, 13, 14, 15, 16, 20, 18, 21, 19, 23, 27, 28, 22, 25, 30, 24, 29, 31, 26, 33, 32, 35, 36, 34, 39, 49, 37, 46, 38, 42, 45, 40, 41, 47, 48, 43, 54, 51, 44, 67, 52, 56, 50, 80, 55, 53, 59, 63, 61, 71, 86, 65, 60, 72, 70, 69, 62, 57, 75, 66, 74, 79, 85, 73, 68, 58, 81, 77, 78, 64, 91, 109, 88, 105, 76, 127, 95, 96, 115, 100, 87, 101, 104, 99, 124, 126, 118, 90, 107, 108, 97, 98, 123, 92, 94, 84, 93, 137, 103, 82, 147, 89, 114, 112, 110, 119, 83, 141, 134, 145, 116, 102, 129, 128, 120, 122, 146, 132, 156, 117, 149, 121, 192, 151, 168, 175, 142, 136, 140, 152, 130, 138, 148, 154, 171, 131, 143, 139, 135, 159, 160, 111, 182, 250, 201, 187, 150, 133, 106, 202, 228, 125, 157, 173, 240, 163, 213, 183, 188, 161, 223, 177, 199, 204, 113, 257, 181, 167, 193, 158, 170, 298, 178, 196, 189, 230, 219, 205, 285, 165, 269, 174, 164, 162, 235, 300, 218, 186, 198, 215, 191, 224, 179, 293, 212, 144, 321, 344, 166, 176, 446, 297, 210, 231, 279, 211, 276, 222, 282, 244, 319, 267, 184, 185, 274, 389, 260, 266, 180, 339, 241, 197, 194, 195, 253, 273, 331, 190, 263, 296, 294, 214, 242, 216, 208, 237, 153, 247, 277]\n",
            "Cantidad: [2054, 759, 492, 380, 333, 264, 252, 237, 196, 194, 183, 175, 156, 136, 135, 132, 131, 119, 116, 103, 101, 91, 86, 83, 77, 77, 75, 75, 75, 73, 71, 68, 62, 58, 58, 57, 54, 49, 49, 48, 47, 45, 45, 42, 41, 40, 39, 38, 37, 36, 34, 34, 34, 33, 32, 32, 31, 30, 29, 28, 28, 26, 25, 25, 24, 24, 23, 23, 23, 22, 22, 22, 21, 20, 20, 20, 19, 19, 19, 18, 18, 17, 17, 17, 16, 16, 15, 15, 15, 14, 14, 13, 13, 13, 13, 13, 12, 12, 12, 12, 11, 11, 11, 11, 11, 10, 10, 10, 10, 10, 10, 9, 9, 9, 9, 9, 9, 8, 8, 8, 8, 8, 8, 7, 7, 7, 7, 7, 7, 7, 6, 6, 6, 6, 5, 5, 5, 5, 5, 5, 5, 5, 5, 5, 5, 5, 5, 5, 4, 4, 4, 4, 4, 4, 4, 4, 4, 4, 4, 4, 4, 4, 4, 4, 4, 3, 3, 3, 3, 3, 3, 3, 3, 3, 3, 3, 3, 3, 3, 3, 3, 3, 2, 2, 2, 2, 2, 2, 2, 2, 2, 2, 2, 2, 2, 2, 2, 2, 2, 2, 2, 2, 2, 2, 2, 2, 2, 2, 2, 1, 1, 1, 1, 1, 1, 1, 1, 1, 1, 1, 1, 1, 1, 1, 1, 1, 1, 1, 1, 1, 1, 1, 1, 1, 1, 1, 1, 1, 1, 1, 1, 1, 1, 1, 1, 1, 1, 1, 1, 1, 1, 1]\n",
            "Politica de cancelación: ['flexible', 'strict', 'moderate', 'super_strict_60', 'super_strict_30']\n",
            "Cantidad: [3177, 2954, 2455, 16, 2]\n"
          ]
        }
      ]
    },
    {
      "cell_type": "code",
      "source": [
        "#el nuevo tamaño es\n",
        "data.shape"
      ],
      "metadata": {
        "colab": {
          "base_uri": "https://localhost:8080/"
        },
        "id": "Qnz60ed8BsER",
        "outputId": "4a84ab77-ba49-4120-8c5d-092643be06ef"
      },
      "execution_count": 163,
      "outputs": [
        {
          "output_type": "execute_result",
          "data": {
            "text/plain": [
              "(8586, 12)"
            ]
          },
          "metadata": {},
          "execution_count": 163
        }
      ]
    },
    {
      "cell_type": "code",
      "source": [
        "data.head().T"
      ],
      "metadata": {
        "colab": {
          "base_uri": "https://localhost:8080/",
          "height": 559
        },
        "id": "laiCICfkkShu",
        "outputId": "4305114d-5fde-4cbe-c351-f80c087546aa"
      },
      "execution_count": 164,
      "outputs": [
        {
          "output_type": "execute_result",
          "data": {
            "text/plain": [
              "                                                                     0  \\\n",
              "Thumbnail Url        https://a0.muscache.com/im/pictures/40713802/3...   \n",
              "Property Type                                                Apartment   \n",
              "Room Type                                                 Private room   \n",
              "Accommodates                                                         2   \n",
              "Bathrooms                                                          1.0   \n",
              "Bedrooms                                                           1.0   \n",
              "Beds                                                               1.0   \n",
              "Price                                                             36.0   \n",
              "Guests Included                                                      1   \n",
              "Extra People                                                         0   \n",
              "Number of Reviews                                                   80   \n",
              "Cancellation Policy                                           flexible   \n",
              "\n",
              "                                                                     2  \\\n",
              "Thumbnail Url        https://a0.muscache.com/im/pictures/84378550/f...   \n",
              "Property Type                                                Apartment   \n",
              "Room Type                                                 Private room   \n",
              "Accommodates                                                         2   \n",
              "Bathrooms                                                          1.0   \n",
              "Bedrooms                                                           1.0   \n",
              "Beds                                                               1.0   \n",
              "Price                                                             20.0   \n",
              "Guests Included                                                      1   \n",
              "Extra People                                                        10   \n",
              "Number of Reviews                                                   20   \n",
              "Cancellation Policy                                           flexible   \n",
              "\n",
              "                                                                     3  \\\n",
              "Thumbnail Url        https://a0.muscache.com/im/pictures/be441d1f-4...   \n",
              "Property Type                                                Apartment   \n",
              "Room Type                                              Entire home/apt   \n",
              "Accommodates                                                         4   \n",
              "Bathrooms                                                          1.0   \n",
              "Bedrooms                                                           1.0   \n",
              "Beds                                                               2.0   \n",
              "Price                                                            112.0   \n",
              "Guests Included                                                      2   \n",
              "Extra People                                                         5   \n",
              "Number of Reviews                                                   55   \n",
              "Cancellation Policy                                             strict   \n",
              "\n",
              "                                                                     5  \\\n",
              "Thumbnail Url        https://a0.muscache.com/im/pictures/90548067/4...   \n",
              "Property Type                                                Apartment   \n",
              "Room Type                                                 Private room   \n",
              "Accommodates                                                         2   \n",
              "Bathrooms                                                          2.0   \n",
              "Bedrooms                                                           1.0   \n",
              "Beds                                                               1.0   \n",
              "Price                                                             30.0   \n",
              "Guests Included                                                      1   \n",
              "Extra People                                                         5   \n",
              "Number of Reviews                                                    3   \n",
              "Cancellation Policy                                             strict   \n",
              "\n",
              "                                                                     6  \n",
              "Thumbnail Url        https://a0.muscache.com/im/pictures/48573525/a...  \n",
              "Property Type                                                Apartment  \n",
              "Room Type                                                 Private room  \n",
              "Accommodates                                                         1  \n",
              "Bathrooms                                                          1.0  \n",
              "Bedrooms                                                           1.0  \n",
              "Beds                                                               1.0  \n",
              "Price                                                             18.0  \n",
              "Guests Included                                                      1  \n",
              "Extra People                                                         0  \n",
              "Number of Reviews                                                    0  \n",
              "Cancellation Policy                                             strict  "
            ],
            "text/html": [
              "\n",
              "  <div id=\"df-91ad624e-8bde-4658-9b72-44b4927c876c\">\n",
              "    <div class=\"colab-df-container\">\n",
              "      <div>\n",
              "<style scoped>\n",
              "    .dataframe tbody tr th:only-of-type {\n",
              "        vertical-align: middle;\n",
              "    }\n",
              "\n",
              "    .dataframe tbody tr th {\n",
              "        vertical-align: top;\n",
              "    }\n",
              "\n",
              "    .dataframe thead th {\n",
              "        text-align: right;\n",
              "    }\n",
              "</style>\n",
              "<table border=\"1\" class=\"dataframe\">\n",
              "  <thead>\n",
              "    <tr style=\"text-align: right;\">\n",
              "      <th></th>\n",
              "      <th>0</th>\n",
              "      <th>2</th>\n",
              "      <th>3</th>\n",
              "      <th>5</th>\n",
              "      <th>6</th>\n",
              "    </tr>\n",
              "  </thead>\n",
              "  <tbody>\n",
              "    <tr>\n",
              "      <th>Thumbnail Url</th>\n",
              "      <td>https://a0.muscache.com/im/pictures/40713802/3...</td>\n",
              "      <td>https://a0.muscache.com/im/pictures/84378550/f...</td>\n",
              "      <td>https://a0.muscache.com/im/pictures/be441d1f-4...</td>\n",
              "      <td>https://a0.muscache.com/im/pictures/90548067/4...</td>\n",
              "      <td>https://a0.muscache.com/im/pictures/48573525/a...</td>\n",
              "    </tr>\n",
              "    <tr>\n",
              "      <th>Property Type</th>\n",
              "      <td>Apartment</td>\n",
              "      <td>Apartment</td>\n",
              "      <td>Apartment</td>\n",
              "      <td>Apartment</td>\n",
              "      <td>Apartment</td>\n",
              "    </tr>\n",
              "    <tr>\n",
              "      <th>Room Type</th>\n",
              "      <td>Private room</td>\n",
              "      <td>Private room</td>\n",
              "      <td>Entire home/apt</td>\n",
              "      <td>Private room</td>\n",
              "      <td>Private room</td>\n",
              "    </tr>\n",
              "    <tr>\n",
              "      <th>Accommodates</th>\n",
              "      <td>2</td>\n",
              "      <td>2</td>\n",
              "      <td>4</td>\n",
              "      <td>2</td>\n",
              "      <td>1</td>\n",
              "    </tr>\n",
              "    <tr>\n",
              "      <th>Bathrooms</th>\n",
              "      <td>1.0</td>\n",
              "      <td>1.0</td>\n",
              "      <td>1.0</td>\n",
              "      <td>2.0</td>\n",
              "      <td>1.0</td>\n",
              "    </tr>\n",
              "    <tr>\n",
              "      <th>Bedrooms</th>\n",
              "      <td>1.0</td>\n",
              "      <td>1.0</td>\n",
              "      <td>1.0</td>\n",
              "      <td>1.0</td>\n",
              "      <td>1.0</td>\n",
              "    </tr>\n",
              "    <tr>\n",
              "      <th>Beds</th>\n",
              "      <td>1.0</td>\n",
              "      <td>1.0</td>\n",
              "      <td>2.0</td>\n",
              "      <td>1.0</td>\n",
              "      <td>1.0</td>\n",
              "    </tr>\n",
              "    <tr>\n",
              "      <th>Price</th>\n",
              "      <td>36.0</td>\n",
              "      <td>20.0</td>\n",
              "      <td>112.0</td>\n",
              "      <td>30.0</td>\n",
              "      <td>18.0</td>\n",
              "    </tr>\n",
              "    <tr>\n",
              "      <th>Guests Included</th>\n",
              "      <td>1</td>\n",
              "      <td>1</td>\n",
              "      <td>2</td>\n",
              "      <td>1</td>\n",
              "      <td>1</td>\n",
              "    </tr>\n",
              "    <tr>\n",
              "      <th>Extra People</th>\n",
              "      <td>0</td>\n",
              "      <td>10</td>\n",
              "      <td>5</td>\n",
              "      <td>5</td>\n",
              "      <td>0</td>\n",
              "    </tr>\n",
              "    <tr>\n",
              "      <th>Number of Reviews</th>\n",
              "      <td>80</td>\n",
              "      <td>20</td>\n",
              "      <td>55</td>\n",
              "      <td>3</td>\n",
              "      <td>0</td>\n",
              "    </tr>\n",
              "    <tr>\n",
              "      <th>Cancellation Policy</th>\n",
              "      <td>flexible</td>\n",
              "      <td>flexible</td>\n",
              "      <td>strict</td>\n",
              "      <td>strict</td>\n",
              "      <td>strict</td>\n",
              "    </tr>\n",
              "  </tbody>\n",
              "</table>\n",
              "</div>\n",
              "      <button class=\"colab-df-convert\" onclick=\"convertToInteractive('df-91ad624e-8bde-4658-9b72-44b4927c876c')\"\n",
              "              title=\"Convert this dataframe to an interactive table.\"\n",
              "              style=\"display:none;\">\n",
              "        \n",
              "  <svg xmlns=\"http://www.w3.org/2000/svg\" height=\"24px\"viewBox=\"0 0 24 24\"\n",
              "       width=\"24px\">\n",
              "    <path d=\"M0 0h24v24H0V0z\" fill=\"none\"/>\n",
              "    <path d=\"M18.56 5.44l.94 2.06.94-2.06 2.06-.94-2.06-.94-.94-2.06-.94 2.06-2.06.94zm-11 1L8.5 8.5l.94-2.06 2.06-.94-2.06-.94L8.5 2.5l-.94 2.06-2.06.94zm10 10l.94 2.06.94-2.06 2.06-.94-2.06-.94-.94-2.06-.94 2.06-2.06.94z\"/><path d=\"M17.41 7.96l-1.37-1.37c-.4-.4-.92-.59-1.43-.59-.52 0-1.04.2-1.43.59L10.3 9.45l-7.72 7.72c-.78.78-.78 2.05 0 2.83L4 21.41c.39.39.9.59 1.41.59.51 0 1.02-.2 1.41-.59l7.78-7.78 2.81-2.81c.8-.78.8-2.07 0-2.86zM5.41 20L4 18.59l7.72-7.72 1.47 1.35L5.41 20z\"/>\n",
              "  </svg>\n",
              "      </button>\n",
              "      \n",
              "  <style>\n",
              "    .colab-df-container {\n",
              "      display:flex;\n",
              "      flex-wrap:wrap;\n",
              "      gap: 12px;\n",
              "    }\n",
              "\n",
              "    .colab-df-convert {\n",
              "      background-color: #E8F0FE;\n",
              "      border: none;\n",
              "      border-radius: 50%;\n",
              "      cursor: pointer;\n",
              "      display: none;\n",
              "      fill: #1967D2;\n",
              "      height: 32px;\n",
              "      padding: 0 0 0 0;\n",
              "      width: 32px;\n",
              "    }\n",
              "\n",
              "    .colab-df-convert:hover {\n",
              "      background-color: #E2EBFA;\n",
              "      box-shadow: 0px 1px 2px rgba(60, 64, 67, 0.3), 0px 1px 3px 1px rgba(60, 64, 67, 0.15);\n",
              "      fill: #174EA6;\n",
              "    }\n",
              "\n",
              "    [theme=dark] .colab-df-convert {\n",
              "      background-color: #3B4455;\n",
              "      fill: #D2E3FC;\n",
              "    }\n",
              "\n",
              "    [theme=dark] .colab-df-convert:hover {\n",
              "      background-color: #434B5C;\n",
              "      box-shadow: 0px 1px 3px 1px rgba(0, 0, 0, 0.15);\n",
              "      filter: drop-shadow(0px 1px 2px rgba(0, 0, 0, 0.3));\n",
              "      fill: #FFFFFF;\n",
              "    }\n",
              "  </style>\n",
              "\n",
              "      <script>\n",
              "        const buttonEl =\n",
              "          document.querySelector('#df-91ad624e-8bde-4658-9b72-44b4927c876c button.colab-df-convert');\n",
              "        buttonEl.style.display =\n",
              "          google.colab.kernel.accessAllowed ? 'block' : 'none';\n",
              "\n",
              "        async function convertToInteractive(key) {\n",
              "          const element = document.querySelector('#df-91ad624e-8bde-4658-9b72-44b4927c876c');\n",
              "          const dataTable =\n",
              "            await google.colab.kernel.invokeFunction('convertToInteractive',\n",
              "                                                     [key], {});\n",
              "          if (!dataTable) return;\n",
              "\n",
              "          const docLinkHtml = 'Like what you see? Visit the ' +\n",
              "            '<a target=\"_blank\" href=https://colab.research.google.com/notebooks/data_table.ipynb>data table notebook</a>'\n",
              "            + ' to learn more about interactive tables.';\n",
              "          element.innerHTML = '';\n",
              "          dataTable['output_type'] = 'display_data';\n",
              "          await google.colab.output.renderOutput(dataTable, element);\n",
              "          const docLink = document.createElement('div');\n",
              "          docLink.innerHTML = docLinkHtml;\n",
              "          element.appendChild(docLink);\n",
              "        }\n",
              "      </script>\n",
              "    </div>\n",
              "  </div>\n",
              "  "
            ]
          },
          "metadata": {},
          "execution_count": 164
        }
      ]
    },
    {
      "cell_type": "code",
      "source": [
        "#Normalizar los datos de variables categoricas\n",
        "property_type = LabelEncoder()\n",
        "property_type.fit(data['Property Type'])\n",
        "data['Property Type'] = property_type.transform(data['Property Type'])\n",
        "room_type = LabelEncoder()\n",
        "room_type.fit(data['Room Type'])\n",
        "data['Room Type'] = room_type.transform(data['Room Type'])\n",
        "cancellation_policy = LabelEncoder()\n",
        "cancellation_policy.fit(data['Cancellation Policy'])\n",
        "data['Cancellation Policy'] = cancellation_policy.transform(data['Cancellation Policy'])\n",
        "\n",
        "data.head().T"
      ],
      "metadata": {
        "colab": {
          "base_uri": "https://localhost:8080/",
          "height": 559
        },
        "id": "TaN6ivi6k7T6",
        "outputId": "26a3f3ad-6e2a-447d-d480-b427db665075"
      },
      "execution_count": 167,
      "outputs": [
        {
          "output_type": "execute_result",
          "data": {
            "text/plain": [
              "                                                                     0  \\\n",
              "Thumbnail Url        https://a0.muscache.com/im/pictures/40713802/3...   \n",
              "Property Type                                                        0   \n",
              "Room Type                                                            1   \n",
              "Accommodates                                                         2   \n",
              "Bathrooms                                                          1.0   \n",
              "Bedrooms                                                           1.0   \n",
              "Beds                                                               1.0   \n",
              "Price                                                             36.0   \n",
              "Guests Included                                                      1   \n",
              "Extra People                                                         0   \n",
              "Number of Reviews                                                   80   \n",
              "Cancellation Policy                                                  0   \n",
              "\n",
              "                                                                     2  \\\n",
              "Thumbnail Url        https://a0.muscache.com/im/pictures/84378550/f...   \n",
              "Property Type                                                        0   \n",
              "Room Type                                                            1   \n",
              "Accommodates                                                         2   \n",
              "Bathrooms                                                          1.0   \n",
              "Bedrooms                                                           1.0   \n",
              "Beds                                                               1.0   \n",
              "Price                                                             20.0   \n",
              "Guests Included                                                      1   \n",
              "Extra People                                                        10   \n",
              "Number of Reviews                                                   20   \n",
              "Cancellation Policy                                                  0   \n",
              "\n",
              "                                                                     3  \\\n",
              "Thumbnail Url        https://a0.muscache.com/im/pictures/be441d1f-4...   \n",
              "Property Type                                                        0   \n",
              "Room Type                                                            0   \n",
              "Accommodates                                                         4   \n",
              "Bathrooms                                                          1.0   \n",
              "Bedrooms                                                           1.0   \n",
              "Beds                                                               2.0   \n",
              "Price                                                            112.0   \n",
              "Guests Included                                                      2   \n",
              "Extra People                                                         5   \n",
              "Number of Reviews                                                   55   \n",
              "Cancellation Policy                                                  2   \n",
              "\n",
              "                                                                     5  \\\n",
              "Thumbnail Url        https://a0.muscache.com/im/pictures/90548067/4...   \n",
              "Property Type                                                        0   \n",
              "Room Type                                                            1   \n",
              "Accommodates                                                         2   \n",
              "Bathrooms                                                          2.0   \n",
              "Bedrooms                                                           1.0   \n",
              "Beds                                                               1.0   \n",
              "Price                                                             30.0   \n",
              "Guests Included                                                      1   \n",
              "Extra People                                                         5   \n",
              "Number of Reviews                                                    3   \n",
              "Cancellation Policy                                                  2   \n",
              "\n",
              "                                                                     6  \n",
              "Thumbnail Url        https://a0.muscache.com/im/pictures/48573525/a...  \n",
              "Property Type                                                        0  \n",
              "Room Type                                                            1  \n",
              "Accommodates                                                         1  \n",
              "Bathrooms                                                          1.0  \n",
              "Bedrooms                                                           1.0  \n",
              "Beds                                                               1.0  \n",
              "Price                                                             18.0  \n",
              "Guests Included                                                      1  \n",
              "Extra People                                                         0  \n",
              "Number of Reviews                                                    0  \n",
              "Cancellation Policy                                                  2  "
            ],
            "text/html": [
              "\n",
              "  <div id=\"df-5da46dc4-1bd5-4b3a-933c-beed58339b79\">\n",
              "    <div class=\"colab-df-container\">\n",
              "      <div>\n",
              "<style scoped>\n",
              "    .dataframe tbody tr th:only-of-type {\n",
              "        vertical-align: middle;\n",
              "    }\n",
              "\n",
              "    .dataframe tbody tr th {\n",
              "        vertical-align: top;\n",
              "    }\n",
              "\n",
              "    .dataframe thead th {\n",
              "        text-align: right;\n",
              "    }\n",
              "</style>\n",
              "<table border=\"1\" class=\"dataframe\">\n",
              "  <thead>\n",
              "    <tr style=\"text-align: right;\">\n",
              "      <th></th>\n",
              "      <th>0</th>\n",
              "      <th>2</th>\n",
              "      <th>3</th>\n",
              "      <th>5</th>\n",
              "      <th>6</th>\n",
              "    </tr>\n",
              "  </thead>\n",
              "  <tbody>\n",
              "    <tr>\n",
              "      <th>Thumbnail Url</th>\n",
              "      <td>https://a0.muscache.com/im/pictures/40713802/3...</td>\n",
              "      <td>https://a0.muscache.com/im/pictures/84378550/f...</td>\n",
              "      <td>https://a0.muscache.com/im/pictures/be441d1f-4...</td>\n",
              "      <td>https://a0.muscache.com/im/pictures/90548067/4...</td>\n",
              "      <td>https://a0.muscache.com/im/pictures/48573525/a...</td>\n",
              "    </tr>\n",
              "    <tr>\n",
              "      <th>Property Type</th>\n",
              "      <td>0</td>\n",
              "      <td>0</td>\n",
              "      <td>0</td>\n",
              "      <td>0</td>\n",
              "      <td>0</td>\n",
              "    </tr>\n",
              "    <tr>\n",
              "      <th>Room Type</th>\n",
              "      <td>1</td>\n",
              "      <td>1</td>\n",
              "      <td>0</td>\n",
              "      <td>1</td>\n",
              "      <td>1</td>\n",
              "    </tr>\n",
              "    <tr>\n",
              "      <th>Accommodates</th>\n",
              "      <td>2</td>\n",
              "      <td>2</td>\n",
              "      <td>4</td>\n",
              "      <td>2</td>\n",
              "      <td>1</td>\n",
              "    </tr>\n",
              "    <tr>\n",
              "      <th>Bathrooms</th>\n",
              "      <td>1.0</td>\n",
              "      <td>1.0</td>\n",
              "      <td>1.0</td>\n",
              "      <td>2.0</td>\n",
              "      <td>1.0</td>\n",
              "    </tr>\n",
              "    <tr>\n",
              "      <th>Bedrooms</th>\n",
              "      <td>1.0</td>\n",
              "      <td>1.0</td>\n",
              "      <td>1.0</td>\n",
              "      <td>1.0</td>\n",
              "      <td>1.0</td>\n",
              "    </tr>\n",
              "    <tr>\n",
              "      <th>Beds</th>\n",
              "      <td>1.0</td>\n",
              "      <td>1.0</td>\n",
              "      <td>2.0</td>\n",
              "      <td>1.0</td>\n",
              "      <td>1.0</td>\n",
              "    </tr>\n",
              "    <tr>\n",
              "      <th>Price</th>\n",
              "      <td>36.0</td>\n",
              "      <td>20.0</td>\n",
              "      <td>112.0</td>\n",
              "      <td>30.0</td>\n",
              "      <td>18.0</td>\n",
              "    </tr>\n",
              "    <tr>\n",
              "      <th>Guests Included</th>\n",
              "      <td>1</td>\n",
              "      <td>1</td>\n",
              "      <td>2</td>\n",
              "      <td>1</td>\n",
              "      <td>1</td>\n",
              "    </tr>\n",
              "    <tr>\n",
              "      <th>Extra People</th>\n",
              "      <td>0</td>\n",
              "      <td>10</td>\n",
              "      <td>5</td>\n",
              "      <td>5</td>\n",
              "      <td>0</td>\n",
              "    </tr>\n",
              "    <tr>\n",
              "      <th>Number of Reviews</th>\n",
              "      <td>80</td>\n",
              "      <td>20</td>\n",
              "      <td>55</td>\n",
              "      <td>3</td>\n",
              "      <td>0</td>\n",
              "    </tr>\n",
              "    <tr>\n",
              "      <th>Cancellation Policy</th>\n",
              "      <td>0</td>\n",
              "      <td>0</td>\n",
              "      <td>2</td>\n",
              "      <td>2</td>\n",
              "      <td>2</td>\n",
              "    </tr>\n",
              "  </tbody>\n",
              "</table>\n",
              "</div>\n",
              "      <button class=\"colab-df-convert\" onclick=\"convertToInteractive('df-5da46dc4-1bd5-4b3a-933c-beed58339b79')\"\n",
              "              title=\"Convert this dataframe to an interactive table.\"\n",
              "              style=\"display:none;\">\n",
              "        \n",
              "  <svg xmlns=\"http://www.w3.org/2000/svg\" height=\"24px\"viewBox=\"0 0 24 24\"\n",
              "       width=\"24px\">\n",
              "    <path d=\"M0 0h24v24H0V0z\" fill=\"none\"/>\n",
              "    <path d=\"M18.56 5.44l.94 2.06.94-2.06 2.06-.94-2.06-.94-.94-2.06-.94 2.06-2.06.94zm-11 1L8.5 8.5l.94-2.06 2.06-.94-2.06-.94L8.5 2.5l-.94 2.06-2.06.94zm10 10l.94 2.06.94-2.06 2.06-.94-2.06-.94-.94-2.06-.94 2.06-2.06.94z\"/><path d=\"M17.41 7.96l-1.37-1.37c-.4-.4-.92-.59-1.43-.59-.52 0-1.04.2-1.43.59L10.3 9.45l-7.72 7.72c-.78.78-.78 2.05 0 2.83L4 21.41c.39.39.9.59 1.41.59.51 0 1.02-.2 1.41-.59l7.78-7.78 2.81-2.81c.8-.78.8-2.07 0-2.86zM5.41 20L4 18.59l7.72-7.72 1.47 1.35L5.41 20z\"/>\n",
              "  </svg>\n",
              "      </button>\n",
              "      \n",
              "  <style>\n",
              "    .colab-df-container {\n",
              "      display:flex;\n",
              "      flex-wrap:wrap;\n",
              "      gap: 12px;\n",
              "    }\n",
              "\n",
              "    .colab-df-convert {\n",
              "      background-color: #E8F0FE;\n",
              "      border: none;\n",
              "      border-radius: 50%;\n",
              "      cursor: pointer;\n",
              "      display: none;\n",
              "      fill: #1967D2;\n",
              "      height: 32px;\n",
              "      padding: 0 0 0 0;\n",
              "      width: 32px;\n",
              "    }\n",
              "\n",
              "    .colab-df-convert:hover {\n",
              "      background-color: #E2EBFA;\n",
              "      box-shadow: 0px 1px 2px rgba(60, 64, 67, 0.3), 0px 1px 3px 1px rgba(60, 64, 67, 0.15);\n",
              "      fill: #174EA6;\n",
              "    }\n",
              "\n",
              "    [theme=dark] .colab-df-convert {\n",
              "      background-color: #3B4455;\n",
              "      fill: #D2E3FC;\n",
              "    }\n",
              "\n",
              "    [theme=dark] .colab-df-convert:hover {\n",
              "      background-color: #434B5C;\n",
              "      box-shadow: 0px 1px 3px 1px rgba(0, 0, 0, 0.15);\n",
              "      filter: drop-shadow(0px 1px 2px rgba(0, 0, 0, 0.3));\n",
              "      fill: #FFFFFF;\n",
              "    }\n",
              "  </style>\n",
              "\n",
              "      <script>\n",
              "        const buttonEl =\n",
              "          document.querySelector('#df-5da46dc4-1bd5-4b3a-933c-beed58339b79 button.colab-df-convert');\n",
              "        buttonEl.style.display =\n",
              "          google.colab.kernel.accessAllowed ? 'block' : 'none';\n",
              "\n",
              "        async function convertToInteractive(key) {\n",
              "          const element = document.querySelector('#df-5da46dc4-1bd5-4b3a-933c-beed58339b79');\n",
              "          const dataTable =\n",
              "            await google.colab.kernel.invokeFunction('convertToInteractive',\n",
              "                                                     [key], {});\n",
              "          if (!dataTable) return;\n",
              "\n",
              "          const docLinkHtml = 'Like what you see? Visit the ' +\n",
              "            '<a target=\"_blank\" href=https://colab.research.google.com/notebooks/data_table.ipynb>data table notebook</a>'\n",
              "            + ' to learn more about interactive tables.';\n",
              "          element.innerHTML = '';\n",
              "          dataTable['output_type'] = 'display_data';\n",
              "          await google.colab.output.renderOutput(dataTable, element);\n",
              "          const docLink = document.createElement('div');\n",
              "          docLink.innerHTML = docLinkHtml;\n",
              "          element.appendChild(docLink);\n",
              "        }\n",
              "      </script>\n",
              "    </div>\n",
              "  </div>\n",
              "  "
            ]
          },
          "metadata": {},
          "execution_count": 167
        }
      ]
    },
    {
      "cell_type": "code",
      "source": [
        "#Se que se ha planteado de otra forma pero yo lo tenía ya diseñado así.\n",
        "#una vez que tengo el data set con el que voy a trabajar me descargo las \n",
        "#imagenes que contiene este.\n",
        "\n",
        "#utilizo el metodo que nos facilitaste"
      ],
      "metadata": {
        "id": "NpEPTK2daEo3"
      },
      "execution_count": 168,
      "outputs": []
    },
    {
      "cell_type": "code",
      "source": [
        "# aquí creamos nuestra estructura de datos, que va a consistir en la url de la\n",
        "# imagen y un índice para saber donde insertarla en nuestro array\n",
        "images_paths = [[i, img_url] for i, img_url in enumerate(data['Thumbnail Url'])]"
      ],
      "metadata": {
        "id": "NIiObYmtaHbc"
      },
      "execution_count": 169,
      "outputs": []
    },
    {
      "cell_type": "code",
      "source": [
        "import imageio as io\n",
        "import cv2\n",
        "\n",
        "# esta es la función que se descargará la imagen y devolverá la imagen y el \n",
        "# índice indicando la posición donde se incrustará la imagen en nuestro array\n",
        "def get_image(data_url, target_size=(128, 128)):\n",
        "    idx, url = data_url\n",
        "    try:\n",
        "        img = io.imread(url)\n",
        "        # hay alguna imagen en blanco y negro y daría error al incluirla en \n",
        "        # nuestro array de imagenes que tiene 3 canales, así que convertimos\n",
        "        # todas las imágenes que tengan menos de 3 dimensiones a color\n",
        "        if img.ndim < 3:\n",
        "          img = cv2.cvtColor(img, cv2.COLOR_GRAY2RGB)\n",
        "        img = cv2.resize(img, dsize=target_size)\n",
        "        return img, idx\n",
        "    except IOError as err:\n",
        "        return (None, idx)"
      ],
      "metadata": {
        "id": "Ifd0GQfKaNWP"
      },
      "execution_count": 171,
      "outputs": []
    },
    {
      "cell_type": "code",
      "source": [
        "# en este array iremos incrustando las imágenes conforme las vayamos obteniendo\n",
        "loaded_images = np.zeros((len(images_paths), 128, 128, 3), dtype=np.uint8)\n",
        "\n",
        "# y en este array llevaremos un control de cuales se han cargado correctamente\n",
        "# y cuales no\n",
        "was_loaded = np.zeros(len(images_paths))"
      ],
      "metadata": {
        "id": "XUN1vJCkaTYR"
      },
      "execution_count": 172,
      "outputs": []
    },
    {
      "cell_type": "code",
      "source": [
        "print(loaded_images.shape)"
      ],
      "metadata": {
        "colab": {
          "base_uri": "https://localhost:8080/"
        },
        "id": "mUNSZrZMaWX3",
        "outputId": "2b2e51ec-38e8-4a3d-aa4f-dc66c222b1c1"
      },
      "execution_count": 173,
      "outputs": [
        {
          "output_type": "stream",
          "name": "stdout",
          "text": [
            "(8586, 128, 128, 3)\n"
          ]
        }
      ]
    },
    {
      "cell_type": "code",
      "source": [
        "#NO EJECUTAR: Si ya tenemos las imagenes\n",
        "import concurrent\n",
        "from tqdm import tqdm\n",
        "\n",
        "# creamos un pool de procesos que se irán descargando las imágenes\n",
        "# por defecto, se crearán tantos como CPUs tenga vuestra máquina\n",
        "with concurrent.futures.ProcessPoolExecutor() as executor:\n",
        "    # procesamos la lista de urls de imágenes paralelizandola con el pool de procesos\n",
        "    for (img, idx) in tqdm(executor.map(get_image, images_paths), total=len(images_paths)):\n",
        "        # metemos la imagen en nuestro array\n",
        "        if img is not None and np.size(img,-1) == 3:\n",
        "            loaded_images[idx] = img\n",
        "            was_loaded[idx] = 1\n",
        "        else:\n",
        "            was_loaded[idx] = 0\n",
        "\n",
        "print('Terminado!')\n",
        "print(f'Total de imágenes recuperadas correctamente: {sum(was_loaded)}/{len(images_paths)}')"
      ],
      "metadata": {
        "colab": {
          "base_uri": "https://localhost:8080/",
          "height": 398
        },
        "id": "UeXEITDbaf22",
        "outputId": "d81e2b34-8da0-4947-9f0f-fbc2b92e383e"
      },
      "execution_count": 29,
      "outputs": [
        {
          "output_type": "stream",
          "name": "stderr",
          "text": [
            " 79%|███████▉  | 6789/8586 [14:43<03:53,  7.69it/s]\n"
          ]
        },
        {
          "output_type": "error",
          "ename": "KeyboardInterrupt",
          "evalue": "ignored",
          "traceback": [
            "\u001b[0;31m---------------------------------------------------------------------------\u001b[0m",
            "\u001b[0;31mKeyboardInterrupt\u001b[0m                         Traceback (most recent call last)",
            "\u001b[0;32m<ipython-input-29-60468029a74d>\u001b[0m in \u001b[0;36m<module>\u001b[0;34m()\u001b[0m\n\u001b[1;32m      7\u001b[0m \u001b[0;32mwith\u001b[0m \u001b[0mconcurrent\u001b[0m\u001b[0;34m.\u001b[0m\u001b[0mfutures\u001b[0m\u001b[0;34m.\u001b[0m\u001b[0mProcessPoolExecutor\u001b[0m\u001b[0;34m(\u001b[0m\u001b[0;34m)\u001b[0m \u001b[0;32mas\u001b[0m \u001b[0mexecutor\u001b[0m\u001b[0;34m:\u001b[0m\u001b[0;34m\u001b[0m\u001b[0;34m\u001b[0m\u001b[0m\n\u001b[1;32m      8\u001b[0m     \u001b[0;31m# procesamos la lista de urls de imágenes paralelizandola con el pool de procesos\u001b[0m\u001b[0;34m\u001b[0m\u001b[0;34m\u001b[0m\u001b[0;34m\u001b[0m\u001b[0m\n\u001b[0;32m----> 9\u001b[0;31m     \u001b[0;32mfor\u001b[0m \u001b[0;34m(\u001b[0m\u001b[0mimg\u001b[0m\u001b[0;34m,\u001b[0m \u001b[0midx\u001b[0m\u001b[0;34m)\u001b[0m \u001b[0;32min\u001b[0m \u001b[0mtqdm\u001b[0m\u001b[0;34m(\u001b[0m\u001b[0mexecutor\u001b[0m\u001b[0;34m.\u001b[0m\u001b[0mmap\u001b[0m\u001b[0;34m(\u001b[0m\u001b[0mget_image\u001b[0m\u001b[0;34m,\u001b[0m \u001b[0mimages_paths\u001b[0m\u001b[0;34m)\u001b[0m\u001b[0;34m,\u001b[0m \u001b[0mtotal\u001b[0m\u001b[0;34m=\u001b[0m\u001b[0mlen\u001b[0m\u001b[0;34m(\u001b[0m\u001b[0mimages_paths\u001b[0m\u001b[0;34m)\u001b[0m\u001b[0;34m)\u001b[0m\u001b[0;34m:\u001b[0m\u001b[0;34m\u001b[0m\u001b[0;34m\u001b[0m\u001b[0m\n\u001b[0m\u001b[1;32m     10\u001b[0m         \u001b[0;31m# metemos la imagen en nuestro array\u001b[0m\u001b[0;34m\u001b[0m\u001b[0;34m\u001b[0m\u001b[0;34m\u001b[0m\u001b[0m\n\u001b[1;32m     11\u001b[0m         \u001b[0;32mif\u001b[0m \u001b[0mimg\u001b[0m \u001b[0;32mis\u001b[0m \u001b[0;32mnot\u001b[0m \u001b[0;32mNone\u001b[0m \u001b[0;32mand\u001b[0m \u001b[0mnp\u001b[0m\u001b[0;34m.\u001b[0m\u001b[0msize\u001b[0m\u001b[0;34m(\u001b[0m\u001b[0mimg\u001b[0m\u001b[0;34m,\u001b[0m\u001b[0;34m-\u001b[0m\u001b[0;36m1\u001b[0m\u001b[0;34m)\u001b[0m \u001b[0;34m==\u001b[0m \u001b[0;36m3\u001b[0m\u001b[0;34m:\u001b[0m\u001b[0;34m\u001b[0m\u001b[0;34m\u001b[0m\u001b[0m\n",
            "\u001b[0;32m/usr/local/lib/python3.7/dist-packages/tqdm/std.py\u001b[0m in \u001b[0;36m__iter__\u001b[0;34m(self)\u001b[0m\n\u001b[1;32m   1193\u001b[0m \u001b[0;34m\u001b[0m\u001b[0m\n\u001b[1;32m   1194\u001b[0m         \u001b[0;32mtry\u001b[0m\u001b[0;34m:\u001b[0m\u001b[0;34m\u001b[0m\u001b[0;34m\u001b[0m\u001b[0m\n\u001b[0;32m-> 1195\u001b[0;31m             \u001b[0;32mfor\u001b[0m \u001b[0mobj\u001b[0m \u001b[0;32min\u001b[0m \u001b[0miterable\u001b[0m\u001b[0;34m:\u001b[0m\u001b[0;34m\u001b[0m\u001b[0;34m\u001b[0m\u001b[0m\n\u001b[0m\u001b[1;32m   1196\u001b[0m                 \u001b[0;32myield\u001b[0m \u001b[0mobj\u001b[0m\u001b[0;34m\u001b[0m\u001b[0;34m\u001b[0m\u001b[0m\n\u001b[1;32m   1197\u001b[0m                 \u001b[0;31m# Update and possibly print the progressbar.\u001b[0m\u001b[0;34m\u001b[0m\u001b[0;34m\u001b[0m\u001b[0;34m\u001b[0m\u001b[0m\n",
            "\u001b[0;32m/usr/lib/python3.7/concurrent/futures/process.py\u001b[0m in \u001b[0;36m_chain_from_iterable_of_lists\u001b[0;34m(iterable)\u001b[0m\n\u001b[1;32m    481\u001b[0m     \u001b[0mcareful\u001b[0m \u001b[0;32mnot\u001b[0m \u001b[0mto\u001b[0m \u001b[0mkeep\u001b[0m \u001b[0mreferences\u001b[0m \u001b[0mto\u001b[0m \u001b[0myielded\u001b[0m \u001b[0mobjects\u001b[0m\u001b[0;34m.\u001b[0m\u001b[0;34m\u001b[0m\u001b[0;34m\u001b[0m\u001b[0m\n\u001b[1;32m    482\u001b[0m     \"\"\"\n\u001b[0;32m--> 483\u001b[0;31m     \u001b[0;32mfor\u001b[0m \u001b[0melement\u001b[0m \u001b[0;32min\u001b[0m \u001b[0miterable\u001b[0m\u001b[0;34m:\u001b[0m\u001b[0;34m\u001b[0m\u001b[0;34m\u001b[0m\u001b[0m\n\u001b[0m\u001b[1;32m    484\u001b[0m         \u001b[0melement\u001b[0m\u001b[0;34m.\u001b[0m\u001b[0mreverse\u001b[0m\u001b[0;34m(\u001b[0m\u001b[0;34m)\u001b[0m\u001b[0;34m\u001b[0m\u001b[0;34m\u001b[0m\u001b[0m\n\u001b[1;32m    485\u001b[0m         \u001b[0;32mwhile\u001b[0m \u001b[0melement\u001b[0m\u001b[0;34m:\u001b[0m\u001b[0;34m\u001b[0m\u001b[0;34m\u001b[0m\u001b[0m\n",
            "\u001b[0;32m/usr/lib/python3.7/concurrent/futures/_base.py\u001b[0m in \u001b[0;36mresult_iterator\u001b[0;34m()\u001b[0m\n\u001b[1;32m    596\u001b[0m                     \u001b[0;31m# Careful not to keep a reference to the popped future\u001b[0m\u001b[0;34m\u001b[0m\u001b[0;34m\u001b[0m\u001b[0;34m\u001b[0m\u001b[0m\n\u001b[1;32m    597\u001b[0m                     \u001b[0;32mif\u001b[0m \u001b[0mtimeout\u001b[0m \u001b[0;32mis\u001b[0m \u001b[0;32mNone\u001b[0m\u001b[0;34m:\u001b[0m\u001b[0;34m\u001b[0m\u001b[0;34m\u001b[0m\u001b[0m\n\u001b[0;32m--> 598\u001b[0;31m                         \u001b[0;32myield\u001b[0m \u001b[0mfs\u001b[0m\u001b[0;34m.\u001b[0m\u001b[0mpop\u001b[0m\u001b[0;34m(\u001b[0m\u001b[0;34m)\u001b[0m\u001b[0;34m.\u001b[0m\u001b[0mresult\u001b[0m\u001b[0;34m(\u001b[0m\u001b[0;34m)\u001b[0m\u001b[0;34m\u001b[0m\u001b[0;34m\u001b[0m\u001b[0m\n\u001b[0m\u001b[1;32m    599\u001b[0m                     \u001b[0;32melse\u001b[0m\u001b[0;34m:\u001b[0m\u001b[0;34m\u001b[0m\u001b[0;34m\u001b[0m\u001b[0m\n\u001b[1;32m    600\u001b[0m                         \u001b[0;32myield\u001b[0m \u001b[0mfs\u001b[0m\u001b[0;34m.\u001b[0m\u001b[0mpop\u001b[0m\u001b[0;34m(\u001b[0m\u001b[0;34m)\u001b[0m\u001b[0;34m.\u001b[0m\u001b[0mresult\u001b[0m\u001b[0;34m(\u001b[0m\u001b[0mend_time\u001b[0m \u001b[0;34m-\u001b[0m \u001b[0mtime\u001b[0m\u001b[0;34m.\u001b[0m\u001b[0mmonotonic\u001b[0m\u001b[0;34m(\u001b[0m\u001b[0;34m)\u001b[0m\u001b[0;34m)\u001b[0m\u001b[0;34m\u001b[0m\u001b[0;34m\u001b[0m\u001b[0m\n",
            "\u001b[0;32m/usr/lib/python3.7/concurrent/futures/_base.py\u001b[0m in \u001b[0;36mresult\u001b[0;34m(self, timeout)\u001b[0m\n\u001b[1;32m    428\u001b[0m                 \u001b[0;32mreturn\u001b[0m \u001b[0mself\u001b[0m\u001b[0;34m.\u001b[0m\u001b[0m__get_result\u001b[0m\u001b[0;34m(\u001b[0m\u001b[0;34m)\u001b[0m\u001b[0;34m\u001b[0m\u001b[0;34m\u001b[0m\u001b[0m\n\u001b[1;32m    429\u001b[0m \u001b[0;34m\u001b[0m\u001b[0m\n\u001b[0;32m--> 430\u001b[0;31m             \u001b[0mself\u001b[0m\u001b[0;34m.\u001b[0m\u001b[0m_condition\u001b[0m\u001b[0;34m.\u001b[0m\u001b[0mwait\u001b[0m\u001b[0;34m(\u001b[0m\u001b[0mtimeout\u001b[0m\u001b[0;34m)\u001b[0m\u001b[0;34m\u001b[0m\u001b[0;34m\u001b[0m\u001b[0m\n\u001b[0m\u001b[1;32m    431\u001b[0m \u001b[0;34m\u001b[0m\u001b[0m\n\u001b[1;32m    432\u001b[0m             \u001b[0;32mif\u001b[0m \u001b[0mself\u001b[0m\u001b[0;34m.\u001b[0m\u001b[0m_state\u001b[0m \u001b[0;32min\u001b[0m \u001b[0;34m[\u001b[0m\u001b[0mCANCELLED\u001b[0m\u001b[0;34m,\u001b[0m \u001b[0mCANCELLED_AND_NOTIFIED\u001b[0m\u001b[0;34m]\u001b[0m\u001b[0;34m:\u001b[0m\u001b[0;34m\u001b[0m\u001b[0;34m\u001b[0m\u001b[0m\n",
            "\u001b[0;32m/usr/lib/python3.7/threading.py\u001b[0m in \u001b[0;36mwait\u001b[0;34m(self, timeout)\u001b[0m\n\u001b[1;32m    294\u001b[0m         \u001b[0;32mtry\u001b[0m\u001b[0;34m:\u001b[0m    \u001b[0;31m# restore state no matter what (e.g., KeyboardInterrupt)\u001b[0m\u001b[0;34m\u001b[0m\u001b[0;34m\u001b[0m\u001b[0m\n\u001b[1;32m    295\u001b[0m             \u001b[0;32mif\u001b[0m \u001b[0mtimeout\u001b[0m \u001b[0;32mis\u001b[0m \u001b[0;32mNone\u001b[0m\u001b[0;34m:\u001b[0m\u001b[0;34m\u001b[0m\u001b[0;34m\u001b[0m\u001b[0m\n\u001b[0;32m--> 296\u001b[0;31m                 \u001b[0mwaiter\u001b[0m\u001b[0;34m.\u001b[0m\u001b[0macquire\u001b[0m\u001b[0;34m(\u001b[0m\u001b[0;34m)\u001b[0m\u001b[0;34m\u001b[0m\u001b[0;34m\u001b[0m\u001b[0m\n\u001b[0m\u001b[1;32m    297\u001b[0m                 \u001b[0mgotit\u001b[0m \u001b[0;34m=\u001b[0m \u001b[0;32mTrue\u001b[0m\u001b[0;34m\u001b[0m\u001b[0;34m\u001b[0m\u001b[0m\n\u001b[1;32m    298\u001b[0m             \u001b[0;32melse\u001b[0m\u001b[0;34m:\u001b[0m\u001b[0;34m\u001b[0m\u001b[0;34m\u001b[0m\u001b[0m\n",
            "\u001b[0;31mKeyboardInterrupt\u001b[0m: "
          ]
        }
      ]
    },
    {
      "cell_type": "code",
      "source": [
        "#NO EJECUTAR: Si no hemos descargado las imagenes \n",
        "# guardamos las imágenes (y yo os recomiendo que os lo guardéis en GDrive para evitar tener que repetir esto)\n",
        "np.save('images.npy', loaded_images)\n",
        "np.save('was_loaded.npy', was_loaded)"
      ],
      "metadata": {
        "id": "R1XiGxQ2bCKk"
      },
      "execution_count": null,
      "outputs": []
    },
    {
      "cell_type": "code",
      "source": [
        "# montamos GDrive\n",
        "from google.colab import drive\n",
        "drive.mount('/content/drive')"
      ],
      "metadata": {
        "colab": {
          "base_uri": "https://localhost:8080/"
        },
        "id": "7CiRt6HFXyBX",
        "outputId": "687ab77c-5e78-4ae5-9116-28a21349636d"
      },
      "execution_count": 30,
      "outputs": [
        {
          "output_type": "stream",
          "name": "stdout",
          "text": [
            "Drive already mounted at /content/drive; to attempt to forcibly remount, call drive.mount(\"/content/drive\", force_remount=True).\n"
          ]
        }
      ]
    },
    {
      "cell_type": "code",
      "source": [
        "# almacenamos las imagenes en nuestro drive\n",
        "!cp images.npy /content/drive/My\\ Drive/DeepLearningPractica/images.npy\n",
        "!cp was_loaded.npy /content/drive/My\\ Drive/DeepLearningPractica/was_loaded.npy\n",
        "\n",
        "!ls -lah images.npy was_loaded.npy"
      ],
      "metadata": {
        "id": "5dyBZ_rTX9WH"
      },
      "execution_count": null,
      "outputs": []
    },
    {
      "cell_type": "code",
      "source": [
        "#EJECUTAR: Si tenemos las imagenes almacenadas en nuestro Drive\n",
        "loaded_images = np.load('/content/drive/MyDrive/DeepLearningPractica/images.npy')\n",
        "was_loaded = np.load('/content/drive/MyDrive/DeepLearningPractica/was_loaded.npy')"
      ],
      "metadata": {
        "id": "0IlzO4XRFeAl"
      },
      "execution_count": 186,
      "outputs": []
    },
    {
      "cell_type": "code",
      "source": [
        "# nos quedamos con los datos para los que hemos podido encontrar imágenes\n",
        "data_with_imgs = data[was_loaded == 1]\n",
        "data_with_imgs.shape"
      ],
      "metadata": {
        "colab": {
          "base_uri": "https://localhost:8080/"
        },
        "id": "RNk4Y5k0arqI",
        "outputId": "09bd4f90-a093-4ee6-9549-1ae99d51aae8"
      },
      "execution_count": 187,
      "outputs": [
        {
          "output_type": "execute_result",
          "data": {
            "text/plain": [
              "(8559, 12)"
            ]
          },
          "metadata": {},
          "execution_count": 187
        }
      ]
    },
    {
      "cell_type": "code",
      "source": [
        "# A partir de aqui el data con las imagenes es data_with_imgs\n",
        "#puesto que tiene las caracteristicas de las imagenes que hemos podido descargar"
      ],
      "metadata": {
        "id": "2vYSL4qfBr5w"
      },
      "execution_count": null,
      "outputs": []
    },
    {
      "cell_type": "markdown",
      "source": [
        "Hasta aquí el procesamiento de los datos."
      ],
      "metadata": {
        "id": "MUdP9YILqHay"
      }
    },
    {
      "cell_type": "markdown",
      "source": [
        "**Modelo númerico**"
      ],
      "metadata": {
        "id": "ya6wUAiRp-ac"
      }
    },
    {
      "cell_type": "code",
      "source": [
        "#obtenemos la variable a predecir\n",
        "Y_num = data['Price']\n",
        "\n",
        "#obtenemos el data para trabajar sin estas dos caracteristicas puesto que son imnecesarias\n",
        "data_num = data.drop(['Thumbnail Url','Price'], axis=1)\n",
        "data_num.head()"
      ],
      "metadata": {
        "id": "8fAg7gWrOfSY",
        "colab": {
          "base_uri": "https://localhost:8080/",
          "height": 250
        },
        "outputId": "2b7594b1-2d64-4bc2-d55c-6bc7da738b9a"
      },
      "execution_count": 175,
      "outputs": [
        {
          "output_type": "execute_result",
          "data": {
            "text/plain": [
              "   Property Type  Room Type  Accommodates  Bathrooms  Bedrooms  Beds  \\\n",
              "0              0          1             2        1.0       1.0   1.0   \n",
              "2              0          1             2        1.0       1.0   1.0   \n",
              "3              0          0             4        1.0       1.0   2.0   \n",
              "5              0          1             2        2.0       1.0   1.0   \n",
              "6              0          1             1        1.0       1.0   1.0   \n",
              "\n",
              "   Guests Included  Extra People  Number of Reviews  Cancellation Policy  \n",
              "0                1             0                 80                    0  \n",
              "2                1            10                 20                    0  \n",
              "3                2             5                 55                    2  \n",
              "5                1             5                  3                    2  \n",
              "6                1             0                  0                    2  "
            ],
            "text/html": [
              "\n",
              "  <div id=\"df-af930a2a-1303-46e6-bc56-0ea6523cc588\">\n",
              "    <div class=\"colab-df-container\">\n",
              "      <div>\n",
              "<style scoped>\n",
              "    .dataframe tbody tr th:only-of-type {\n",
              "        vertical-align: middle;\n",
              "    }\n",
              "\n",
              "    .dataframe tbody tr th {\n",
              "        vertical-align: top;\n",
              "    }\n",
              "\n",
              "    .dataframe thead th {\n",
              "        text-align: right;\n",
              "    }\n",
              "</style>\n",
              "<table border=\"1\" class=\"dataframe\">\n",
              "  <thead>\n",
              "    <tr style=\"text-align: right;\">\n",
              "      <th></th>\n",
              "      <th>Property Type</th>\n",
              "      <th>Room Type</th>\n",
              "      <th>Accommodates</th>\n",
              "      <th>Bathrooms</th>\n",
              "      <th>Bedrooms</th>\n",
              "      <th>Beds</th>\n",
              "      <th>Guests Included</th>\n",
              "      <th>Extra People</th>\n",
              "      <th>Number of Reviews</th>\n",
              "      <th>Cancellation Policy</th>\n",
              "    </tr>\n",
              "  </thead>\n",
              "  <tbody>\n",
              "    <tr>\n",
              "      <th>0</th>\n",
              "      <td>0</td>\n",
              "      <td>1</td>\n",
              "      <td>2</td>\n",
              "      <td>1.0</td>\n",
              "      <td>1.0</td>\n",
              "      <td>1.0</td>\n",
              "      <td>1</td>\n",
              "      <td>0</td>\n",
              "      <td>80</td>\n",
              "      <td>0</td>\n",
              "    </tr>\n",
              "    <tr>\n",
              "      <th>2</th>\n",
              "      <td>0</td>\n",
              "      <td>1</td>\n",
              "      <td>2</td>\n",
              "      <td>1.0</td>\n",
              "      <td>1.0</td>\n",
              "      <td>1.0</td>\n",
              "      <td>1</td>\n",
              "      <td>10</td>\n",
              "      <td>20</td>\n",
              "      <td>0</td>\n",
              "    </tr>\n",
              "    <tr>\n",
              "      <th>3</th>\n",
              "      <td>0</td>\n",
              "      <td>0</td>\n",
              "      <td>4</td>\n",
              "      <td>1.0</td>\n",
              "      <td>1.0</td>\n",
              "      <td>2.0</td>\n",
              "      <td>2</td>\n",
              "      <td>5</td>\n",
              "      <td>55</td>\n",
              "      <td>2</td>\n",
              "    </tr>\n",
              "    <tr>\n",
              "      <th>5</th>\n",
              "      <td>0</td>\n",
              "      <td>1</td>\n",
              "      <td>2</td>\n",
              "      <td>2.0</td>\n",
              "      <td>1.0</td>\n",
              "      <td>1.0</td>\n",
              "      <td>1</td>\n",
              "      <td>5</td>\n",
              "      <td>3</td>\n",
              "      <td>2</td>\n",
              "    </tr>\n",
              "    <tr>\n",
              "      <th>6</th>\n",
              "      <td>0</td>\n",
              "      <td>1</td>\n",
              "      <td>1</td>\n",
              "      <td>1.0</td>\n",
              "      <td>1.0</td>\n",
              "      <td>1.0</td>\n",
              "      <td>1</td>\n",
              "      <td>0</td>\n",
              "      <td>0</td>\n",
              "      <td>2</td>\n",
              "    </tr>\n",
              "  </tbody>\n",
              "</table>\n",
              "</div>\n",
              "      <button class=\"colab-df-convert\" onclick=\"convertToInteractive('df-af930a2a-1303-46e6-bc56-0ea6523cc588')\"\n",
              "              title=\"Convert this dataframe to an interactive table.\"\n",
              "              style=\"display:none;\">\n",
              "        \n",
              "  <svg xmlns=\"http://www.w3.org/2000/svg\" height=\"24px\"viewBox=\"0 0 24 24\"\n",
              "       width=\"24px\">\n",
              "    <path d=\"M0 0h24v24H0V0z\" fill=\"none\"/>\n",
              "    <path d=\"M18.56 5.44l.94 2.06.94-2.06 2.06-.94-2.06-.94-.94-2.06-.94 2.06-2.06.94zm-11 1L8.5 8.5l.94-2.06 2.06-.94-2.06-.94L8.5 2.5l-.94 2.06-2.06.94zm10 10l.94 2.06.94-2.06 2.06-.94-2.06-.94-.94-2.06-.94 2.06-2.06.94z\"/><path d=\"M17.41 7.96l-1.37-1.37c-.4-.4-.92-.59-1.43-.59-.52 0-1.04.2-1.43.59L10.3 9.45l-7.72 7.72c-.78.78-.78 2.05 0 2.83L4 21.41c.39.39.9.59 1.41.59.51 0 1.02-.2 1.41-.59l7.78-7.78 2.81-2.81c.8-.78.8-2.07 0-2.86zM5.41 20L4 18.59l7.72-7.72 1.47 1.35L5.41 20z\"/>\n",
              "  </svg>\n",
              "      </button>\n",
              "      \n",
              "  <style>\n",
              "    .colab-df-container {\n",
              "      display:flex;\n",
              "      flex-wrap:wrap;\n",
              "      gap: 12px;\n",
              "    }\n",
              "\n",
              "    .colab-df-convert {\n",
              "      background-color: #E8F0FE;\n",
              "      border: none;\n",
              "      border-radius: 50%;\n",
              "      cursor: pointer;\n",
              "      display: none;\n",
              "      fill: #1967D2;\n",
              "      height: 32px;\n",
              "      padding: 0 0 0 0;\n",
              "      width: 32px;\n",
              "    }\n",
              "\n",
              "    .colab-df-convert:hover {\n",
              "      background-color: #E2EBFA;\n",
              "      box-shadow: 0px 1px 2px rgba(60, 64, 67, 0.3), 0px 1px 3px 1px rgba(60, 64, 67, 0.15);\n",
              "      fill: #174EA6;\n",
              "    }\n",
              "\n",
              "    [theme=dark] .colab-df-convert {\n",
              "      background-color: #3B4455;\n",
              "      fill: #D2E3FC;\n",
              "    }\n",
              "\n",
              "    [theme=dark] .colab-df-convert:hover {\n",
              "      background-color: #434B5C;\n",
              "      box-shadow: 0px 1px 3px 1px rgba(0, 0, 0, 0.15);\n",
              "      filter: drop-shadow(0px 1px 2px rgba(0, 0, 0, 0.3));\n",
              "      fill: #FFFFFF;\n",
              "    }\n",
              "  </style>\n",
              "\n",
              "      <script>\n",
              "        const buttonEl =\n",
              "          document.querySelector('#df-af930a2a-1303-46e6-bc56-0ea6523cc588 button.colab-df-convert');\n",
              "        buttonEl.style.display =\n",
              "          google.colab.kernel.accessAllowed ? 'block' : 'none';\n",
              "\n",
              "        async function convertToInteractive(key) {\n",
              "          const element = document.querySelector('#df-af930a2a-1303-46e6-bc56-0ea6523cc588');\n",
              "          const dataTable =\n",
              "            await google.colab.kernel.invokeFunction('convertToInteractive',\n",
              "                                                     [key], {});\n",
              "          if (!dataTable) return;\n",
              "\n",
              "          const docLinkHtml = 'Like what you see? Visit the ' +\n",
              "            '<a target=\"_blank\" href=https://colab.research.google.com/notebooks/data_table.ipynb>data table notebook</a>'\n",
              "            + ' to learn more about interactive tables.';\n",
              "          element.innerHTML = '';\n",
              "          dataTable['output_type'] = 'display_data';\n",
              "          await google.colab.output.renderOutput(dataTable, element);\n",
              "          const docLink = document.createElement('div');\n",
              "          docLink.innerHTML = docLinkHtml;\n",
              "          element.appendChild(docLink);\n",
              "        }\n",
              "      </script>\n",
              "    </div>\n",
              "  </div>\n",
              "  "
            ]
          },
          "metadata": {},
          "execution_count": 175
        }
      ]
    },
    {
      "cell_type": "code",
      "source": [
        "#Llegados a este punto vamos hacer la división del juego de datos en train, validate y test\n",
        "#Lo ideal es hacer la división al inicio ya que es lo que mas se ajustará con la realidad, puesto que los datos de \n",
        "#   de test no los vamos a tener. Pero por simplificar el proceso lo vamos hacer en este punto donde ya tenemos el \n",
        "#   data set con el que queremos trabajar.\n",
        "\n",
        "X_num_train, X_num_test, Y_num_train, Y_num_test = train_test_split(data_num, Y_num, test_size=0.2, random_state=1)\n",
        "X_num_train, X_num_val, Y_num_train, Y_num_val = train_test_split(X_num_train, Y_num_train, test_size=0.25, random_state=1) \n",
        "\n",
        "print(f'Tamaño del data set de train: {X_num_train.shape}')\n",
        "print(f'Tamaño del data set de validation: {Y_num_val.shape}')\n",
        "print(f'Tamaño del data set de test: {X_num_test.shape}')\n"
      ],
      "metadata": {
        "colab": {
          "base_uri": "https://localhost:8080/"
        },
        "id": "NIY3mb79AF2T",
        "outputId": "022a046a-1d8d-4a6f-df84-53e0b5a01aa5"
      },
      "execution_count": 176,
      "outputs": [
        {
          "output_type": "stream",
          "name": "stdout",
          "text": [
            "Tamaño del data set de train: (5151, 10)\n",
            "Tamaño del data set de validation: (1717,)\n",
            "Tamaño del data set de test: (1718, 10)\n"
          ]
        }
      ]
    },
    {
      "cell_type": "code",
      "source": [
        "#vamos a normalizar los datos de variables continuaas\n",
        "continuos = ['Accommodates','Bathrooms','Bedrooms','Beds','Guests Included','Extra People','Number of Reviews']\n",
        "scaler = MinMaxScaler(feature_range=(0,1))\n",
        "X_train_norm_num = scaler.fit_transform(X_num_train[continuos])\n",
        "X_val_norm_num = scaler.fit_transform(X_num_val[continuos])\n",
        "X_test_norm_num = scaler.fit_transform(X_num_test[continuos])\n",
        "\n",
        "# normalizaremos los valores del precio\n",
        "scaler2 = MinMaxScaler(feature_range=(0,1))\n",
        "Y_train_norm_num = scaler2.fit_transform(Y_num_train.values.reshape(-1,1))\n",
        "Y_val_norm_num = scaler2.fit_transform(Y_num_val.values.reshape(-1,1))\n",
        "Y_test_norm_num = scaler2.fit_transform(Y_num_test.values.reshape(-1,1))"
      ],
      "metadata": {
        "id": "SfPHzinemGDO"
      },
      "execution_count": 177,
      "outputs": []
    },
    {
      "cell_type": "code",
      "source": [
        "# Implementamos la red empleando Keras (modelo secuencial) para la parte numérica\n",
        "model_num = Sequential()\n",
        "model_num.add(Dense(8, input_dim=X_train_norm_num.shape[1], activation=\"relu\", kernel_initializer =  tf.keras.initializers.GlorotUniform()))\n",
        "model_num.add(Dense(4, activation=\"relu\", kernel_initializer =  tf.keras.initializers.GlorotUniform()))\n",
        "\n",
        "#esta linea está comentada para poder trabajar en el modelo hibirido\n",
        "#par trabajar de manera individual hay que descomentarla\n",
        "#model_num.add(Dense(1, activation=\"sigmoid\"))\n",
        "\n",
        "# Compilamos y entrenamos el modelo\n",
        "print(\"[INFO]: Entrenando red neuronal...\")\n",
        "opt = Adam(learning_rate=1e-3)\n",
        "model_num.compile(loss=\"mse\", optimizer=opt, metrics=[\"mae\"]) \n",
        "\n",
        "H = model_num.fit(x=X_train_norm_num, y=Y_train_norm_num, validation_data=(X_val_norm_num, Y_val_norm_num), epochs=100, batch_size=64)\n"
      ],
      "metadata": {
        "id": "OSsE944zN5Bc",
        "colab": {
          "base_uri": "https://localhost:8080/"
        },
        "outputId": "1f5a1b97-8b75-4c66-fb8e-487d3fb5f293"
      },
      "execution_count": 178,
      "outputs": [
        {
          "output_type": "stream",
          "name": "stdout",
          "text": [
            "[INFO]: Entrenando red neuronal...\n",
            "Epoch 1/100\n",
            "81/81 [==============================] - 1s 6ms/step - loss: 0.0121 - mae: 0.0748 - val_loss: 0.0104 - val_mae: 0.0700\n",
            "Epoch 2/100\n",
            "81/81 [==============================] - 0s 3ms/step - loss: 0.0101 - mae: 0.0668 - val_loss: 0.0099 - val_mae: 0.0668\n",
            "Epoch 3/100\n",
            "81/81 [==============================] - 0s 3ms/step - loss: 0.0098 - mae: 0.0649 - val_loss: 0.0098 - val_mae: 0.0657\n",
            "Epoch 4/100\n",
            "81/81 [==============================] - 0s 3ms/step - loss: 0.0095 - mae: 0.0631 - val_loss: 0.0095 - val_mae: 0.0644\n",
            "Epoch 5/100\n",
            "81/81 [==============================] - 0s 2ms/step - loss: 0.0094 - mae: 0.0620 - val_loss: 0.0094 - val_mae: 0.0643\n",
            "Epoch 6/100\n",
            "81/81 [==============================] - 0s 2ms/step - loss: 0.0093 - mae: 0.0616 - val_loss: 0.0093 - val_mae: 0.0632\n",
            "Epoch 7/100\n",
            "81/81 [==============================] - 0s 2ms/step - loss: 0.0092 - mae: 0.0612 - val_loss: 0.0093 - val_mae: 0.0630\n",
            "Epoch 8/100\n",
            "81/81 [==============================] - 0s 3ms/step - loss: 0.0088 - mae: 0.0593 - val_loss: 0.0082 - val_mae: 0.0573\n",
            "Epoch 9/100\n",
            "81/81 [==============================] - 0s 3ms/step - loss: 0.0081 - mae: 0.0552 - val_loss: 0.0080 - val_mae: 0.0563\n",
            "Epoch 10/100\n",
            "81/81 [==============================] - 0s 2ms/step - loss: 0.0080 - mae: 0.0543 - val_loss: 0.0080 - val_mae: 0.0557\n",
            "Epoch 11/100\n",
            "81/81 [==============================] - 0s 2ms/step - loss: 0.0080 - mae: 0.0536 - val_loss: 0.0079 - val_mae: 0.0557\n",
            "Epoch 12/100\n",
            "81/81 [==============================] - 0s 3ms/step - loss: 0.0079 - mae: 0.0530 - val_loss: 0.0077 - val_mae: 0.0542\n",
            "Epoch 13/100\n",
            "81/81 [==============================] - 0s 2ms/step - loss: 0.0076 - mae: 0.0513 - val_loss: 0.0069 - val_mae: 0.0491\n",
            "Epoch 14/100\n",
            "81/81 [==============================] - 0s 2ms/step - loss: 0.0062 - mae: 0.0445 - val_loss: 0.0058 - val_mae: 0.0442\n",
            "Epoch 15/100\n",
            "81/81 [==============================] - 0s 2ms/step - loss: 0.0057 - mae: 0.0412 - val_loss: 0.0052 - val_mae: 0.0407\n",
            "Epoch 16/100\n",
            "81/81 [==============================] - 0s 3ms/step - loss: 0.0052 - mae: 0.0386 - val_loss: 0.0048 - val_mae: 0.0398\n",
            "Epoch 17/100\n",
            "81/81 [==============================] - 0s 3ms/step - loss: 0.0049 - mae: 0.0369 - val_loss: 0.0047 - val_mae: 0.0376\n",
            "Epoch 18/100\n",
            "81/81 [==============================] - 0s 3ms/step - loss: 0.0048 - mae: 0.0358 - val_loss: 0.0046 - val_mae: 0.0384\n",
            "Epoch 19/100\n",
            "81/81 [==============================] - 0s 3ms/step - loss: 0.0048 - mae: 0.0360 - val_loss: 0.0046 - val_mae: 0.0364\n",
            "Epoch 20/100\n",
            "81/81 [==============================] - 0s 2ms/step - loss: 0.0047 - mae: 0.0352 - val_loss: 0.0045 - val_mae: 0.0359\n",
            "Epoch 21/100\n",
            "81/81 [==============================] - 0s 3ms/step - loss: 0.0046 - mae: 0.0345 - val_loss: 0.0045 - val_mae: 0.0365\n",
            "Epoch 22/100\n",
            "81/81 [==============================] - 0s 2ms/step - loss: 0.0046 - mae: 0.0342 - val_loss: 0.0045 - val_mae: 0.0362\n",
            "Epoch 23/100\n",
            "81/81 [==============================] - 0s 3ms/step - loss: 0.0046 - mae: 0.0340 - val_loss: 0.0044 - val_mae: 0.0369\n",
            "Epoch 24/100\n",
            "81/81 [==============================] - 0s 2ms/step - loss: 0.0046 - mae: 0.0340 - val_loss: 0.0044 - val_mae: 0.0365\n",
            "Epoch 25/100\n",
            "81/81 [==============================] - 0s 2ms/step - loss: 0.0046 - mae: 0.0341 - val_loss: 0.0044 - val_mae: 0.0366\n",
            "Epoch 26/100\n",
            "81/81 [==============================] - 0s 3ms/step - loss: 0.0045 - mae: 0.0334 - val_loss: 0.0044 - val_mae: 0.0362\n",
            "Epoch 27/100\n",
            "81/81 [==============================] - 0s 2ms/step - loss: 0.0045 - mae: 0.0340 - val_loss: 0.0044 - val_mae: 0.0370\n",
            "Epoch 28/100\n",
            "81/81 [==============================] - 0s 2ms/step - loss: 0.0045 - mae: 0.0336 - val_loss: 0.0044 - val_mae: 0.0354\n",
            "Epoch 29/100\n",
            "81/81 [==============================] - 0s 2ms/step - loss: 0.0045 - mae: 0.0338 - val_loss: 0.0044 - val_mae: 0.0361\n",
            "Epoch 30/100\n",
            "81/81 [==============================] - 0s 3ms/step - loss: 0.0045 - mae: 0.0336 - val_loss: 0.0044 - val_mae: 0.0355\n",
            "Epoch 31/100\n",
            "81/81 [==============================] - 0s 2ms/step - loss: 0.0045 - mae: 0.0334 - val_loss: 0.0044 - val_mae: 0.0352\n",
            "Epoch 32/100\n",
            "81/81 [==============================] - 0s 2ms/step - loss: 0.0045 - mae: 0.0334 - val_loss: 0.0044 - val_mae: 0.0365\n",
            "Epoch 33/100\n",
            "81/81 [==============================] - 0s 3ms/step - loss: 0.0045 - mae: 0.0334 - val_loss: 0.0044 - val_mae: 0.0357\n",
            "Epoch 34/100\n",
            "81/81 [==============================] - 0s 3ms/step - loss: 0.0045 - mae: 0.0336 - val_loss: 0.0044 - val_mae: 0.0348\n",
            "Epoch 35/100\n",
            "81/81 [==============================] - 0s 2ms/step - loss: 0.0045 - mae: 0.0335 - val_loss: 0.0044 - val_mae: 0.0351\n",
            "Epoch 36/100\n",
            "81/81 [==============================] - 0s 2ms/step - loss: 0.0045 - mae: 0.0334 - val_loss: 0.0044 - val_mae: 0.0355\n",
            "Epoch 37/100\n",
            "81/81 [==============================] - 0s 2ms/step - loss: 0.0045 - mae: 0.0331 - val_loss: 0.0044 - val_mae: 0.0354\n",
            "Epoch 38/100\n",
            "81/81 [==============================] - 0s 2ms/step - loss: 0.0045 - mae: 0.0334 - val_loss: 0.0044 - val_mae: 0.0353\n",
            "Epoch 39/100\n",
            "81/81 [==============================] - 0s 2ms/step - loss: 0.0045 - mae: 0.0334 - val_loss: 0.0044 - val_mae: 0.0350\n",
            "Epoch 40/100\n",
            "81/81 [==============================] - 0s 3ms/step - loss: 0.0045 - mae: 0.0333 - val_loss: 0.0044 - val_mae: 0.0360\n",
            "Epoch 41/100\n",
            "81/81 [==============================] - 0s 3ms/step - loss: 0.0045 - mae: 0.0333 - val_loss: 0.0043 - val_mae: 0.0362\n",
            "Epoch 42/100\n",
            "81/81 [==============================] - 0s 2ms/step - loss: 0.0045 - mae: 0.0336 - val_loss: 0.0043 - val_mae: 0.0356\n",
            "Epoch 43/100\n",
            "81/81 [==============================] - 0s 3ms/step - loss: 0.0045 - mae: 0.0334 - val_loss: 0.0044 - val_mae: 0.0350\n",
            "Epoch 44/100\n",
            "81/81 [==============================] - 0s 2ms/step - loss: 0.0045 - mae: 0.0332 - val_loss: 0.0044 - val_mae: 0.0346\n",
            "Epoch 45/100\n",
            "81/81 [==============================] - 0s 2ms/step - loss: 0.0045 - mae: 0.0331 - val_loss: 0.0043 - val_mae: 0.0361\n",
            "Epoch 46/100\n",
            "81/81 [==============================] - 0s 3ms/step - loss: 0.0045 - mae: 0.0333 - val_loss: 0.0043 - val_mae: 0.0350\n",
            "Epoch 47/100\n",
            "81/81 [==============================] - 0s 2ms/step - loss: 0.0045 - mae: 0.0336 - val_loss: 0.0043 - val_mae: 0.0352\n",
            "Epoch 48/100\n",
            "81/81 [==============================] - 0s 2ms/step - loss: 0.0044 - mae: 0.0333 - val_loss: 0.0043 - val_mae: 0.0354\n",
            "Epoch 49/100\n",
            "81/81 [==============================] - 0s 2ms/step - loss: 0.0045 - mae: 0.0334 - val_loss: 0.0043 - val_mae: 0.0353\n",
            "Epoch 50/100\n",
            "81/81 [==============================] - 0s 3ms/step - loss: 0.0044 - mae: 0.0332 - val_loss: 0.0043 - val_mae: 0.0361\n",
            "Epoch 51/100\n",
            "81/81 [==============================] - 0s 3ms/step - loss: 0.0044 - mae: 0.0334 - val_loss: 0.0044 - val_mae: 0.0348\n",
            "Epoch 52/100\n",
            "81/81 [==============================] - 0s 2ms/step - loss: 0.0044 - mae: 0.0331 - val_loss: 0.0043 - val_mae: 0.0352\n",
            "Epoch 53/100\n",
            "81/81 [==============================] - 0s 2ms/step - loss: 0.0045 - mae: 0.0336 - val_loss: 0.0044 - val_mae: 0.0348\n",
            "Epoch 54/100\n",
            "81/81 [==============================] - 0s 3ms/step - loss: 0.0044 - mae: 0.0331 - val_loss: 0.0044 - val_mae: 0.0349\n",
            "Epoch 55/100\n",
            "81/81 [==============================] - 0s 3ms/step - loss: 0.0045 - mae: 0.0333 - val_loss: 0.0043 - val_mae: 0.0360\n",
            "Epoch 56/100\n",
            "81/81 [==============================] - 0s 3ms/step - loss: 0.0044 - mae: 0.0332 - val_loss: 0.0043 - val_mae: 0.0356\n",
            "Epoch 57/100\n",
            "81/81 [==============================] - 0s 2ms/step - loss: 0.0044 - mae: 0.0331 - val_loss: 0.0044 - val_mae: 0.0355\n",
            "Epoch 58/100\n",
            "81/81 [==============================] - 0s 3ms/step - loss: 0.0044 - mae: 0.0334 - val_loss: 0.0044 - val_mae: 0.0349\n",
            "Epoch 59/100\n",
            "81/81 [==============================] - 0s 2ms/step - loss: 0.0045 - mae: 0.0334 - val_loss: 0.0043 - val_mae: 0.0351\n",
            "Epoch 60/100\n",
            "81/81 [==============================] - 0s 2ms/step - loss: 0.0044 - mae: 0.0331 - val_loss: 0.0043 - val_mae: 0.0356\n",
            "Epoch 61/100\n",
            "81/81 [==============================] - 0s 2ms/step - loss: 0.0044 - mae: 0.0334 - val_loss: 0.0043 - val_mae: 0.0350\n",
            "Epoch 62/100\n",
            "81/81 [==============================] - 0s 2ms/step - loss: 0.0044 - mae: 0.0331 - val_loss: 0.0043 - val_mae: 0.0351\n",
            "Epoch 63/100\n",
            "81/81 [==============================] - 0s 3ms/step - loss: 0.0044 - mae: 0.0331 - val_loss: 0.0043 - val_mae: 0.0354\n",
            "Epoch 64/100\n",
            "81/81 [==============================] - 0s 3ms/step - loss: 0.0044 - mae: 0.0333 - val_loss: 0.0043 - val_mae: 0.0357\n",
            "Epoch 65/100\n",
            "81/81 [==============================] - 0s 2ms/step - loss: 0.0044 - mae: 0.0334 - val_loss: 0.0044 - val_mae: 0.0352\n",
            "Epoch 66/100\n",
            "81/81 [==============================] - 0s 2ms/step - loss: 0.0044 - mae: 0.0332 - val_loss: 0.0043 - val_mae: 0.0360\n",
            "Epoch 67/100\n",
            "81/81 [==============================] - 0s 3ms/step - loss: 0.0044 - mae: 0.0334 - val_loss: 0.0043 - val_mae: 0.0357\n",
            "Epoch 68/100\n",
            "81/81 [==============================] - 0s 2ms/step - loss: 0.0044 - mae: 0.0331 - val_loss: 0.0043 - val_mae: 0.0358\n",
            "Epoch 69/100\n",
            "81/81 [==============================] - 0s 3ms/step - loss: 0.0044 - mae: 0.0332 - val_loss: 0.0043 - val_mae: 0.0352\n",
            "Epoch 70/100\n",
            "81/81 [==============================] - 0s 2ms/step - loss: 0.0044 - mae: 0.0330 - val_loss: 0.0043 - val_mae: 0.0355\n",
            "Epoch 71/100\n",
            "81/81 [==============================] - 0s 2ms/step - loss: 0.0044 - mae: 0.0335 - val_loss: 0.0044 - val_mae: 0.0354\n",
            "Epoch 72/100\n",
            "81/81 [==============================] - 0s 2ms/step - loss: 0.0044 - mae: 0.0332 - val_loss: 0.0043 - val_mae: 0.0357\n",
            "Epoch 73/100\n",
            "81/81 [==============================] - 0s 2ms/step - loss: 0.0044 - mae: 0.0333 - val_loss: 0.0043 - val_mae: 0.0352\n",
            "Epoch 74/100\n",
            "81/81 [==============================] - 0s 3ms/step - loss: 0.0044 - mae: 0.0335 - val_loss: 0.0044 - val_mae: 0.0344\n",
            "Epoch 75/100\n",
            "81/81 [==============================] - 0s 3ms/step - loss: 0.0044 - mae: 0.0330 - val_loss: 0.0043 - val_mae: 0.0360\n",
            "Epoch 76/100\n",
            "81/81 [==============================] - 0s 3ms/step - loss: 0.0044 - mae: 0.0333 - val_loss: 0.0043 - val_mae: 0.0352\n",
            "Epoch 77/100\n",
            "81/81 [==============================] - 0s 3ms/step - loss: 0.0044 - mae: 0.0333 - val_loss: 0.0043 - val_mae: 0.0347\n",
            "Epoch 78/100\n",
            "81/81 [==============================] - 0s 3ms/step - loss: 0.0044 - mae: 0.0331 - val_loss: 0.0043 - val_mae: 0.0357\n",
            "Epoch 79/100\n",
            "81/81 [==============================] - 0s 2ms/step - loss: 0.0044 - mae: 0.0332 - val_loss: 0.0043 - val_mae: 0.0359\n",
            "Epoch 80/100\n",
            "81/81 [==============================] - 0s 2ms/step - loss: 0.0044 - mae: 0.0333 - val_loss: 0.0043 - val_mae: 0.0361\n",
            "Epoch 81/100\n",
            "81/81 [==============================] - 0s 2ms/step - loss: 0.0044 - mae: 0.0335 - val_loss: 0.0043 - val_mae: 0.0354\n",
            "Epoch 82/100\n",
            "81/81 [==============================] - 0s 3ms/step - loss: 0.0044 - mae: 0.0332 - val_loss: 0.0043 - val_mae: 0.0356\n",
            "Epoch 83/100\n",
            "81/81 [==============================] - 0s 2ms/step - loss: 0.0044 - mae: 0.0333 - val_loss: 0.0043 - val_mae: 0.0350\n",
            "Epoch 84/100\n",
            "81/81 [==============================] - 0s 3ms/step - loss: 0.0044 - mae: 0.0332 - val_loss: 0.0043 - val_mae: 0.0352\n",
            "Epoch 85/100\n",
            "81/81 [==============================] - 0s 3ms/step - loss: 0.0044 - mae: 0.0332 - val_loss: 0.0043 - val_mae: 0.0359\n",
            "Epoch 86/100\n",
            "81/81 [==============================] - 0s 2ms/step - loss: 0.0044 - mae: 0.0337 - val_loss: 0.0043 - val_mae: 0.0345\n",
            "Epoch 87/100\n",
            "81/81 [==============================] - 0s 3ms/step - loss: 0.0044 - mae: 0.0332 - val_loss: 0.0043 - val_mae: 0.0350\n",
            "Epoch 88/100\n",
            "81/81 [==============================] - 0s 3ms/step - loss: 0.0044 - mae: 0.0333 - val_loss: 0.0044 - val_mae: 0.0357\n",
            "Epoch 89/100\n",
            "81/81 [==============================] - 0s 3ms/step - loss: 0.0044 - mae: 0.0332 - val_loss: 0.0043 - val_mae: 0.0357\n",
            "Epoch 90/100\n",
            "81/81 [==============================] - 0s 2ms/step - loss: 0.0044 - mae: 0.0332 - val_loss: 0.0043 - val_mae: 0.0353\n",
            "Epoch 91/100\n",
            "81/81 [==============================] - 0s 2ms/step - loss: 0.0044 - mae: 0.0333 - val_loss: 0.0043 - val_mae: 0.0358\n",
            "Epoch 92/100\n",
            "81/81 [==============================] - 0s 2ms/step - loss: 0.0044 - mae: 0.0338 - val_loss: 0.0043 - val_mae: 0.0349\n",
            "Epoch 93/100\n",
            "81/81 [==============================] - 0s 3ms/step - loss: 0.0044 - mae: 0.0331 - val_loss: 0.0043 - val_mae: 0.0353\n",
            "Epoch 94/100\n",
            "81/81 [==============================] - 0s 2ms/step - loss: 0.0044 - mae: 0.0332 - val_loss: 0.0043 - val_mae: 0.0364\n",
            "Epoch 95/100\n",
            "81/81 [==============================] - 0s 2ms/step - loss: 0.0044 - mae: 0.0336 - val_loss: 0.0044 - val_mae: 0.0350\n",
            "Epoch 96/100\n",
            "81/81 [==============================] - 0s 2ms/step - loss: 0.0044 - mae: 0.0334 - val_loss: 0.0043 - val_mae: 0.0359\n",
            "Epoch 97/100\n",
            "81/81 [==============================] - 0s 2ms/step - loss: 0.0044 - mae: 0.0332 - val_loss: 0.0043 - val_mae: 0.0357\n",
            "Epoch 98/100\n",
            "81/81 [==============================] - 0s 2ms/step - loss: 0.0044 - mae: 0.0334 - val_loss: 0.0043 - val_mae: 0.0359\n",
            "Epoch 99/100\n",
            "81/81 [==============================] - 0s 3ms/step - loss: 0.0044 - mae: 0.0335 - val_loss: 0.0043 - val_mae: 0.0358\n",
            "Epoch 100/100\n",
            "81/81 [==============================] - 0s 2ms/step - loss: 0.0044 - mae: 0.0334 - val_loss: 0.0043 - val_mae: 0.0368\n"
          ]
        }
      ]
    },
    {
      "cell_type": "code",
      "source": [
        "# Muestro gráfica de modelo\n",
        "plt.style.use(\"ggplot\")\n",
        "plt.figure()\n",
        "plt.plot(np.arange(0, 100), H.history[\"loss\"], label=\"train_loss\")\n",
        "plt.plot(np.arange(0, 100), H.history[\"val_loss\"], label=\"val_loss\")\n",
        "plt.title(\"Training Loss\")\n",
        "plt.xlabel(\"Epoch #\")\n",
        "plt.ylabel(\"Loss/mse\")\n",
        "plt.legend()"
      ],
      "metadata": {
        "id": "mR6q36LRuT9m",
        "colab": {
          "base_uri": "https://localhost:8080/",
          "height": 316
        },
        "outputId": "da6c9806-e206-4e98-8ba2-b985d639d36f"
      },
      "execution_count": 179,
      "outputs": [
        {
          "output_type": "execute_result",
          "data": {
            "text/plain": [
              "<matplotlib.legend.Legend at 0x7faad138f790>"
            ]
          },
          "metadata": {},
          "execution_count": 179
        },
        {
          "output_type": "display_data",
          "data": {
            "text/plain": [
              "<Figure size 432x288 with 1 Axes>"
            ],
            "image/png": "[encoded data removed]"
          },
          "metadata": {}
        }
      ]
    },
    {
      "cell_type": "code",
      "source": [
        "# Evaluando el modelo de predicción con las imágenes de test\n",
        "print(\"[INFO]: Evaluando red neuronal...\")\n",
        "predictions = model_num.evaluate(X_test_norm_num, Y_num_test, batch_size=64, verbose=1)\n",
        "print('Test loss:', predictions[0])\n",
        "print('Test accuracy:', predictions[1])"
      ],
      "metadata": {
        "colab": {
          "base_uri": "https://localhost:8080/"
        },
        "id": "nKh8JrCKtv4L",
        "outputId": "eab39b14-4395-43f7-fbe3-6c1192f67a48"
      },
      "execution_count": 185,
      "outputs": [
        {
          "output_type": "stream",
          "name": "stdout",
          "text": [
            "[INFO]: Evaluando red neuronal...\n",
            "27/27 [==============================] - 0s 4ms/step - loss: 8294.5566 - mae: 63.2977\n",
            "Test loss: 8294.556640625\n",
            "Test accuracy: 63.297698974609375\n"
          ]
        }
      ]
    },
    {
      "cell_type": "markdown",
      "source": [
        "**Modelo Imagenes**"
      ],
      "metadata": {
        "id": "PoCpzeGisQrI"
      }
    },
    {
      "cell_type": "code",
      "source": [
        "# nos quedamos con los datos para los que hemos podido encontrar imágenes\n",
        "Y = data[\"Price\"]\n",
        "data_with_imgs = data.drop(['Thumbnail Url','Price'], axis=1)\n",
        "data_with_imgs.shape"
      ],
      "metadata": {
        "colab": {
          "base_uri": "https://localhost:8080/"
        },
        "id": "wSMCp36NidXc",
        "outputId": "6085aa34-bd2b-483b-8695-7d32bbb9e1bf"
      },
      "execution_count": 188,
      "outputs": [
        {
          "output_type": "execute_result",
          "data": {
            "text/plain": [
              "(8586, 10)"
            ]
          },
          "metadata": {},
          "execution_count": 188
        }
      ]
    },
    {
      "cell_type": "code",
      "source": [
        "# comprobamos una de las imagenes\n",
        "im = loaded_images[12,::]\n",
        "plt.imshow(im)\n",
        "plt.show()"
      ],
      "metadata": {
        "colab": {
          "base_uri": "https://localhost:8080/",
          "height": 268
        },
        "id": "deEr1zNNKFDQ",
        "outputId": "215c9f75-7776-4b69-db82-a3e24e13d6d4"
      },
      "execution_count": 189,
      "outputs": [
        {
          "output_type": "display_data",
          "data": {
            "text/plain": [
              "<Figure size 432x288 with 1 Axes>"
            ],
            "image/png": "[encoded data removed]"
          },
          "metadata": {}
        }
      ]
    },
    {
      "cell_type": "code",
      "source": [
        "#tamaño de los datos que contiene las imagenes\n",
        "loaded_images.shape"
      ],
      "metadata": {
        "colab": {
          "base_uri": "https://localhost:8080/"
        },
        "id": "mQDKCT4vPlC-",
        "outputId": "02c1236d-884a-44a4-c901-2fea47b6e4b5"
      },
      "execution_count": 190,
      "outputs": [
        {
          "output_type": "execute_result",
          "data": {
            "text/plain": [
              "(8586, 128, 128, 3)"
            ]
          },
          "metadata": {},
          "execution_count": 190
        }
      ]
    },
    {
      "cell_type": "code",
      "source": [
        "#nos quedamos con 1000 registros\n",
        "loaded_img_min = loaded_images[7586::]\n",
        "data_with_img_min = data_with_imgs[7586::]\n",
        "Y_img_min = Y[7586::]\n",
        "\n",
        "loaded_img_min.shape"
      ],
      "metadata": {
        "colab": {
          "base_uri": "https://localhost:8080/"
        },
        "id": "Se3mew36SZEQ",
        "outputId": "0267749e-720d-49f5-b9d3-4fb3c4faa6a4"
      },
      "execution_count": 191,
      "outputs": [
        {
          "output_type": "execute_result",
          "data": {
            "text/plain": [
              "(1000, 128, 128, 3)"
            ]
          },
          "metadata": {},
          "execution_count": 191
        }
      ]
    },
    {
      "cell_type": "code",
      "source": [
        "# hacemos el split de los datos de las imagenes\n",
        "X_img_train, X_img_test, Y_img_train, Y_img_test = train_test_split(loaded_img_min, Y_img_min, test_size=0.2, random_state=1)\n",
        "X_img_train, X_img_val, Y_img_train, Y_img_val = train_test_split(X_img_train, Y_img_train, test_size=0.25, random_state=1) "
      ],
      "metadata": {
        "id": "TAnspyFIzMVu"
      },
      "execution_count": 192,
      "outputs": []
    },
    {
      "cell_type": "code",
      "source": [
        "# Normalizamos las imagenes\n",
        "X_train_norm = X_img_train.astype('float32') / 255.\n",
        "X_val_norm = X_img_val.astype('float32') / 255.\n",
        "X_test_norm = X_img_test.astype('float32') / 255."
      ],
      "metadata": {
        "id": "fscP5q7B1iIt"
      },
      "execution_count": 193,
      "outputs": []
    },
    {
      "cell_type": "code",
      "source": [
        "# Normalizamos la variable resultado\n",
        "scaler3 = MinMaxScaler(feature_range=(0,1))\n",
        "Y_train_norm = scaler3.fit_transform(Y_img_train.values.reshape(-1,1))\n",
        "Y_val_norm = scaler3.fit_transform(Y_img_val.values.reshape(-1,1))\n",
        "Y_test_norm = scaler3.fit_transform(Y_img_test.values.reshape(-1,1))"
      ],
      "metadata": {
        "id": "WqZ2t5mSoIzO"
      },
      "execution_count": 194,
      "outputs": []
    },
    {
      "cell_type": "code",
      "source": [
        "#Modelo imagenes\n",
        "inputs = Input(shape=(128, 128, 3))\n",
        "\n",
        "# Definimos una capa convolucional\n",
        "x = Conv2D(64, kernel_size = (3,3), activation='relu')(inputs)\n",
        "\n",
        "# Definimos una segunda capa convolucional\n",
        "x = Conv2D(32, kernel_size = (3,3), activation='relu')(x)\n",
        "\n",
        "x = Flatten()(x)\n",
        "x = Dense(16, activation='relu')(x)\n",
        "x = Dense(4, activation='relu')(x)\n",
        "\n",
        "#esta linea está comentada para poder trabajar en el modelo hibirido\n",
        "#par trabajar de manera individual hay que descomentarla\n",
        "x = Dense(1, activation='linear')(x)\n",
        "\n",
        "model_img = Model(inputs, x)\n",
        "\n",
        "# Compilamos el modelo\n",
        "model_img.compile(loss='mse',\n",
        "              optimizer=Adam(learning_rate=0.0001),\n",
        "              metrics=['mae']) #, decay=1e-6\n",
        "\n",
        "# Entrenamos el modelo. Yo pondría mas epochs pero me quede sin GPU y tarda una vida en ejecutarse\n",
        "H1 = model_img.fit(X_train_norm, to_categorical(Y_train_norm),\n",
        "          batch_size=128,\n",
        "          shuffle=True,\n",
        "          epochs=10,\n",
        "          validation_data=(X_val_norm, to_categorical(Y_val_norm)))\n",
        "\n",
        "# Evaluamos el modelo\n",
        "scores = model_img.evaluate(X_test_norm, to_categorical(Y_test_norm))\n",
        "\n",
        "print('Loss: %.3f' % scores[0])\n",
        "print('Mae: %.3f' % scores[1])"
      ],
      "metadata": {
        "colab": {
          "base_uri": "https://localhost:8080/"
        },
        "id": "onl9OMbqxp43",
        "outputId": "cbad9cb6-dfdb-42e7-a93f-e7ab3b21e4ca"
      },
      "execution_count": 203,
      "outputs": [
        {
          "output_type": "stream",
          "name": "stdout",
          "text": [
            "Epoch 1/10\n",
            "5/5 [==============================] - 43s 8s/step - loss: 8.1242 - mae: 1.9550 - val_loss: 0.3488 - val_mae: 0.4973\n",
            "Epoch 2/10\n",
            "5/5 [==============================] - 53s 11s/step - loss: 1.1136 - mae: 0.8865 - val_loss: 0.0657 - val_mae: 0.2086\n",
            "Epoch 3/10\n",
            "5/5 [==============================] - 49s 10s/step - loss: 0.5448 - mae: 0.5894 - val_loss: 0.0444 - val_mae: 0.1754\n",
            "Epoch 4/10\n",
            "5/5 [==============================] - 55s 10s/step - loss: 0.4324 - mae: 0.5349 - val_loss: 0.0641 - val_mae: 0.2105\n",
            "Epoch 5/10\n",
            "5/5 [==============================] - 42s 8s/step - loss: 0.3484 - mae: 0.5070 - val_loss: 0.1115 - val_mae: 0.2999\n",
            "Epoch 6/10\n",
            "5/5 [==============================] - 56s 11s/step - loss: 0.2961 - mae: 0.5004 - val_loss: 0.1730 - val_mae: 0.3953\n",
            "Epoch 7/10\n",
            "5/5 [==============================] - 44s 9s/step - loss: 0.2721 - mae: 0.5000 - val_loss: 0.2340 - val_mae: 0.4704\n",
            "Epoch 8/10\n",
            "5/5 [==============================] - 43s 9s/step - loss: 0.2638 - mae: 0.5000 - val_loss: 0.2828 - val_mae: 0.5221\n",
            "Epoch 9/10\n",
            "5/5 [==============================] - 42s 8s/step - loss: 0.2632 - mae: 0.5000 - val_loss: 0.3139 - val_mae: 0.5524\n",
            "Epoch 10/10\n",
            "5/5 [==============================] - 42s 8s/step - loss: 0.2647 - mae: 0.5000 - val_loss: 0.3282 - val_mae: 0.5657\n",
            "7/7 [==============================] - 3s 426ms/step - loss: 0.3343 - mae: 0.5707\n",
            "Loss: 0.334\n",
            "Mae: 0.571\n"
          ]
        }
      ]
    },
    {
      "cell_type": "code",
      "source": [
        "# Muestro gráfica de accuracy y losses\n",
        "plt.style.use(\"ggplot\")\n",
        "plt.figure()\n",
        "plt.plot(np.arange(0, 10), H1.history[\"loss\"], label=\"train_loss\")\n",
        "plt.plot(np.arange(0, 10), H1.history[\"val_loss\"], label=\"val_loss\")\n",
        "plt.title(\"Training Loss and mae\")\n",
        "plt.xlabel(\"Epoch #\")\n",
        "plt.ylabel(\"Loss\")\n",
        "plt.legend()\n"
      ],
      "metadata": {
        "colab": {
          "base_uri": "https://localhost:8080/",
          "height": 316
        },
        "id": "A9ribzOVLAPO",
        "outputId": "0ecb07f8-b31e-496c-b35e-63345b3d4abf"
      },
      "execution_count": 204,
      "outputs": [
        {
          "output_type": "execute_result",
          "data": {
            "text/plain": [
              "<matplotlib.legend.Legend at 0x7faad12e7e10>"
            ]
          },
          "metadata": {},
          "execution_count": 204
        },
        {
          "output_type": "display_data",
          "data": {
            "text/plain": [
              "<Figure size 432x288 with 1 Axes>"
            ],
            "image/png": "[encoded data removed]"
          },
          "metadata": {}
        }
      ]
    },
    {
      "cell_type": "markdown",
      "source": [
        "**Modelo VGG16** "
      ],
      "metadata": {
        "id": "kW0ZmgdXyUY1"
      }
    },
    {
      "cell_type": "code",
      "source": [
        "#Reescalar los datos porque VGG16 las entradas tienes que ser con una shape determianda\n",
        "input_shape1 = (48, 48, 3)\n",
        "\n",
        "# ajustamos los tamaños de la imagen a la especificacion del modelo\n",
        "X_train_resized1 = []\n",
        "for img in X_train_norm:\n",
        "  X_train_resized1.append(np.resize(img, input_shape1))\n",
        "\n",
        "X_train_resized1 = np.array(X_train_resized1)\n",
        "print(X_train_resized1.shape)"
      ],
      "metadata": {
        "colab": {
          "base_uri": "https://localhost:8080/"
        },
        "id": "drtzz_Cqdh6d",
        "outputId": "e65b50fb-197c-4e35-a30c-18e5e2e62d0e"
      },
      "execution_count": 205,
      "outputs": [
        {
          "output_type": "stream",
          "name": "stdout",
          "text": [
            "(600, 48, 48, 3)\n"
          ]
        }
      ]
    },
    {
      "cell_type": "code",
      "source": [
        "# ajustamos los tamaños de la imagen a la especificacion del modelo\n",
        "X_val_resized1 = []\n",
        "for img in X_val_norm:\n",
        "  X_val_resized1.append(np.resize(img, input_shape1))\n",
        "\n",
        "X_val_resized1 = np.array(X_val_resized1)\n",
        "print(X_val_resized1.shape)"
      ],
      "metadata": {
        "colab": {
          "base_uri": "https://localhost:8080/"
        },
        "id": "iNH707hOdlAj",
        "outputId": "372ce8c0-2636-4773-f39f-5769f20416ae"
      },
      "execution_count": 206,
      "outputs": [
        {
          "output_type": "stream",
          "name": "stdout",
          "text": [
            "(200, 48, 48, 3)\n"
          ]
        }
      ]
    },
    {
      "cell_type": "code",
      "source": [
        "# ajustamos los tamaños de la imagen a la especificacion del modelo\n",
        "X_test_resized1 = []\n",
        "for img in X_test_norm:\n",
        "  X_test_resized1.append(np.resize(img, input_shape1))\n",
        "\n",
        "X_test_resized1 = np.array(X_test_resized1)\n",
        "print(X_test_resized1.shape)"
      ],
      "metadata": {
        "colab": {
          "base_uri": "https://localhost:8080/"
        },
        "id": "_vqScAX1eLJG",
        "outputId": "ea91aa5f-050b-44e0-e62d-f3a57690f402"
      },
      "execution_count": 207,
      "outputs": [
        {
          "output_type": "stream",
          "name": "stdout",
          "text": [
            "(200, 48, 48, 3)\n"
          ]
        }
      ]
    },
    {
      "cell_type": "code",
      "source": [
        "#Creas el modelo\n",
        "base_model = VGG16(weights='imagenet', include_top=False, input_shape=(input_shape1))\n",
        "base_model.summary()"
      ],
      "metadata": {
        "colab": {
          "base_uri": "https://localhost:8080/"
        },
        "id": "aWeBw5ITdnQk",
        "outputId": "fc92b97a-bd39-4350-91ae-4e3e48b21866"
      },
      "execution_count": 208,
      "outputs": [
        {
          "output_type": "stream",
          "name": "stdout",
          "text": [
            "Model: \"vgg16\"\n",
            "_________________________________________________________________\n",
            " Layer (type)                Output Shape              Param #   \n",
            "=================================================================\n",
            " input_10 (InputLayer)       [(None, 48, 48, 3)]       0         \n",
            "                                                                 \n",
            " block1_conv1 (Conv2D)       (None, 48, 48, 64)        1792      \n",
            "                                                                 \n",
            " block1_conv2 (Conv2D)       (None, 48, 48, 64)        36928     \n",
            "                                                                 \n",
            " block1_pool (MaxPooling2D)  (None, 24, 24, 64)        0         \n",
            "                                                                 \n",
            " block2_conv1 (Conv2D)       (None, 24, 24, 128)       73856     \n",
            "                                                                 \n",
            " block2_conv2 (Conv2D)       (None, 24, 24, 128)       147584    \n",
            "                                                                 \n",
            " block2_pool (MaxPooling2D)  (None, 12, 12, 128)       0         \n",
            "                                                                 \n",
            " block3_conv1 (Conv2D)       (None, 12, 12, 256)       295168    \n",
            "                                                                 \n",
            " block3_conv2 (Conv2D)       (None, 12, 12, 256)       590080    \n",
            "                                                                 \n",
            " block3_conv3 (Conv2D)       (None, 12, 12, 256)       590080    \n",
            "                                                                 \n",
            " block3_pool (MaxPooling2D)  (None, 6, 6, 256)         0         \n",
            "                                                                 \n",
            " block4_conv1 (Conv2D)       (None, 6, 6, 512)         1180160   \n",
            "                                                                 \n",
            " block4_conv2 (Conv2D)       (None, 6, 6, 512)         2359808   \n",
            "                                                                 \n",
            " block4_conv3 (Conv2D)       (None, 6, 6, 512)         2359808   \n",
            "                                                                 \n",
            " block4_pool (MaxPooling2D)  (None, 3, 3, 512)         0         \n",
            "                                                                 \n",
            " block5_conv1 (Conv2D)       (None, 3, 3, 512)         2359808   \n",
            "                                                                 \n",
            " block5_conv2 (Conv2D)       (None, 3, 3, 512)         2359808   \n",
            "                                                                 \n",
            " block5_conv3 (Conv2D)       (None, 3, 3, 512)         2359808   \n",
            "                                                                 \n",
            " block5_pool (MaxPooling2D)  (None, 1, 1, 512)         0         \n",
            "                                                                 \n",
            "=================================================================\n",
            "Total params: 14,714,688\n",
            "Trainable params: 14,714,688\n",
            "Non-trainable params: 0\n",
            "_________________________________________________________________\n"
          ]
        }
      ]
    },
    {
      "cell_type": "code",
      "source": [
        "# permitimos que, además de la etapa de clasificación, se entrenen también el\n",
        "# último bloque convolucional\n",
        "for layer in base_model.layers:\n",
        "  if layer.name == 'block5_conv1':\n",
        "    break\n",
        "  layer.trainable=False\n",
        "  print('capa' + layer.name + 'congelada')\n",
        "\n",
        "\n",
        "# cogemos la última capa del model y le añadimos nuestro clasificador (top_model)\n",
        "last = base_model.layers[-1].output\n",
        "\n",
        "x = Flatten()(last)\n",
        "x = Dense(128, activation='relu', name='fc4')(x)\n",
        "x = Dropout(0.3)(x)\n",
        "#x = Dense(1, activation='linear', name='prediction')(x)\n",
        "model_cnn = Model(base_model.input, x)\n",
        "\n",
        "# compilamos el modelo\n",
        "model_cnn.compile(optimizer=Adam(learning_rate=0.0001), loss='mse', metrics=['mae'])\n",
        "\n",
        "# vemos la nueva estructura del modelo\n",
        "model_cnn.summary()"
      ],
      "metadata": {
        "colab": {
          "base_uri": "https://localhost:8080/"
        },
        "id": "EZ-Cswn8dq-D",
        "outputId": "af5f49a6-8d85-4bb0-b658-1246dfae5fb5"
      },
      "execution_count": 209,
      "outputs": [
        {
          "output_type": "stream",
          "name": "stdout",
          "text": [
            "capainput_10congelada\n",
            "capablock1_conv1congelada\n",
            "capablock1_conv2congelada\n",
            "capablock1_poolcongelada\n",
            "capablock2_conv1congelada\n",
            "capablock2_conv2congelada\n",
            "capablock2_poolcongelada\n",
            "capablock3_conv1congelada\n",
            "capablock3_conv2congelada\n",
            "capablock3_conv3congelada\n",
            "capablock3_poolcongelada\n",
            "capablock4_conv1congelada\n",
            "capablock4_conv2congelada\n",
            "capablock4_conv3congelada\n",
            "capablock4_poolcongelada\n",
            "Model: \"model_14\"\n",
            "_________________________________________________________________\n",
            " Layer (type)                Output Shape              Param #   \n",
            "=================================================================\n",
            " input_10 (InputLayer)       [(None, 48, 48, 3)]       0         \n",
            "                                                                 \n",
            " block1_conv1 (Conv2D)       (None, 48, 48, 64)        1792      \n",
            "                                                                 \n",
            " block1_conv2 (Conv2D)       (None, 48, 48, 64)        36928     \n",
            "                                                                 \n",
            " block1_pool (MaxPooling2D)  (None, 24, 24, 64)        0         \n",
            "                                                                 \n",
            " block2_conv1 (Conv2D)       (None, 24, 24, 128)       73856     \n",
            "                                                                 \n",
            " block2_conv2 (Conv2D)       (None, 24, 24, 128)       147584    \n",
            "                                                                 \n",
            " block2_pool (MaxPooling2D)  (None, 12, 12, 128)       0         \n",
            "                                                                 \n",
            " block3_conv1 (Conv2D)       (None, 12, 12, 256)       295168    \n",
            "                                                                 \n",
            " block3_conv2 (Conv2D)       (None, 12, 12, 256)       590080    \n",
            "                                                                 \n",
            " block3_conv3 (Conv2D)       (None, 12, 12, 256)       590080    \n",
            "                                                                 \n",
            " block3_pool (MaxPooling2D)  (None, 6, 6, 256)         0         \n",
            "                                                                 \n",
            " block4_conv1 (Conv2D)       (None, 6, 6, 512)         1180160   \n",
            "                                                                 \n",
            " block4_conv2 (Conv2D)       (None, 6, 6, 512)         2359808   \n",
            "                                                                 \n",
            " block4_conv3 (Conv2D)       (None, 6, 6, 512)         2359808   \n",
            "                                                                 \n",
            " block4_pool (MaxPooling2D)  (None, 3, 3, 512)         0         \n",
            "                                                                 \n",
            " block5_conv1 (Conv2D)       (None, 3, 3, 512)         2359808   \n",
            "                                                                 \n",
            " block5_conv2 (Conv2D)       (None, 3, 3, 512)         2359808   \n",
            "                                                                 \n",
            " block5_conv3 (Conv2D)       (None, 3, 3, 512)         2359808   \n",
            "                                                                 \n",
            " block5_pool (MaxPooling2D)  (None, 1, 1, 512)         0         \n",
            "                                                                 \n",
            " flatten_20 (Flatten)        (None, 512)               0         \n",
            "                                                                 \n",
            " fc4 (Dense)                 (None, 128)               65664     \n",
            "                                                                 \n",
            " dropout_8 (Dropout)         (None, 128)               0         \n",
            "                                                                 \n",
            "=================================================================\n",
            "Total params: 14,780,352\n",
            "Trainable params: 7,145,088\n",
            "Non-trainable params: 7,635,264\n",
            "_________________________________________________________________\n"
          ]
        }
      ]
    },
    {
      "cell_type": "code",
      "source": [
        "# comenzamos con el entrenamiento\n",
        "epochs = 10\n",
        "batch_size = 128\n",
        "\n",
        "# como entrenariamos normalmente\n",
        "H3 = model_cnn.fit(X_train_resized1, Y_train_norm,\n",
        "          batch_size=batch_size,\n",
        "          validation_data=(X_val_resized1, Y_val_norm),\n",
        "          epochs=epochs)"
      ],
      "metadata": {
        "colab": {
          "base_uri": "https://localhost:8080/"
        },
        "id": "jPWy3mlpZUDF",
        "outputId": "38bf5bed-8f23-4783-c142-2c97885d6236"
      },
      "execution_count": 210,
      "outputs": [
        {
          "output_type": "stream",
          "name": "stdout",
          "text": [
            "Epoch 1/10\n",
            "5/5 [==============================] - 28s 6s/step - loss: 0.2057 - mae: 0.2633 - val_loss: 0.0593 - val_mae: 0.1754\n",
            "Epoch 2/10\n",
            "5/5 [==============================] - 27s 6s/step - loss: 0.0661 - mae: 0.1567 - val_loss: 0.0324 - val_mae: 0.1299\n",
            "Epoch 3/10\n",
            "5/5 [==============================] - 27s 6s/step - loss: 0.0287 - mae: 0.1070 - val_loss: 0.0241 - val_mae: 0.1091\n",
            "Epoch 4/10\n",
            "5/5 [==============================] - 29s 6s/step - loss: 0.0164 - mae: 0.0843 - val_loss: 0.0230 - val_mae: 0.1044\n",
            "Epoch 5/10\n",
            "5/5 [==============================] - 27s 6s/step - loss: 0.0136 - mae: 0.0742 - val_loss: 0.0243 - val_mae: 0.1072\n",
            "Epoch 6/10\n",
            "5/5 [==============================] - 27s 6s/step - loss: 0.0129 - mae: 0.0701 - val_loss: 0.0228 - val_mae: 0.1017\n",
            "Epoch 7/10\n",
            "5/5 [==============================] - 27s 5s/step - loss: 0.0127 - mae: 0.0698 - val_loss: 0.0230 - val_mae: 0.1019\n",
            "Epoch 8/10\n",
            "5/5 [==============================] - 28s 6s/step - loss: 0.0125 - mae: 0.0686 - val_loss: 0.0227 - val_mae: 0.1009\n",
            "Epoch 9/10\n",
            "5/5 [==============================] - 27s 6s/step - loss: 0.0124 - mae: 0.0684 - val_loss: 0.0225 - val_mae: 0.1005\n",
            "Epoch 10/10\n",
            "5/5 [==============================] - 29s 6s/step - loss: 0.0124 - mae: 0.0686 - val_loss: 0.0231 - val_mae: 0.1021\n"
          ]
        }
      ]
    },
    {
      "cell_type": "code",
      "source": [
        "plt.style.use(\"ggplot\")\n",
        "plt.figure()\n",
        "plt.plot(np.arange(0, 10), H3.history[\"loss\"], label=\"train_loss\")\n",
        "plt.plot(np.arange(0, 10), H3.history[\"val_loss\"], label=\"val_loss\")\n",
        "plt.title(\"Training Loss and mae\")\n",
        "plt.xlabel(\"Epoch #\")\n",
        "plt.ylabel(\"Loss\")\n",
        "plt.legend()"
      ],
      "metadata": {
        "colab": {
          "base_uri": "https://localhost:8080/",
          "height": 316
        },
        "id": "aqxUkKHDmCMj",
        "outputId": "6b7ea8ed-3f60-4a1b-a0ec-91f3e019c316"
      },
      "execution_count": 211,
      "outputs": [
        {
          "output_type": "execute_result",
          "data": {
            "text/plain": [
              "<matplotlib.legend.Legend at 0x7faae804fc50>"
            ]
          },
          "metadata": {},
          "execution_count": 211
        },
        {
          "output_type": "display_data",
          "data": {
            "text/plain": [
              "<Figure size 432x288 with 1 Axes>"
            ],
            "image/png": "[encoded data removed]"
          },
          "metadata": {}
        }
      ]
    },
    {
      "cell_type": "code",
      "source": [
        "# comprobamos el accuracy y el loss en el test set\n",
        "scores = model_cnn.evaluate(X_test_resized1, Y_test_norm, verbose=1)\n",
        "print('Test loss:', scores[0])\n",
        "print('Test accuracy:', scores[1])"
      ],
      "metadata": {
        "colab": {
          "base_uri": "https://localhost:8080/"
        },
        "id": "0qW8UgwMeGUV",
        "outputId": "a1a009e9-c3b6-4ea4-9edd-f1d843527083"
      },
      "execution_count": 212,
      "outputs": [
        {
          "output_type": "stream",
          "name": "stdout",
          "text": [
            "7/7 [==============================] - 5s 675ms/step - loss: 0.0118 - mae: 0.0664\n",
            "Test loss: 0.011796078644692898\n",
            "Test accuracy: 0.06636511534452438\n"
          ]
        }
      ]
    },
    {
      "cell_type": "markdown",
      "source": [
        "**Modelo Hibrido**\n",
        "\n",
        "Está sin acabar no he conseguido hacerlo funcionar.\n",
        "He seguido los pasos del post que nos pasate como ejemplo"
      ],
      "metadata": {
        "id": "dIaQFCsQy1NS"
      }
    },
    {
      "cell_type": "code",
      "source": [
        "# obtenemos los modelos que con anterioridad teníamos implementados\n",
        "mlp = model_num\n",
        "cnn = model_cnn\n",
        "# creamos la entrada conbinada con las salidas de los dos modelos\n",
        "combinedInput = concatenate([mlp.output, cnn.output])\n",
        "\n",
        "#creamos la capa propia del modelo hibrido \n",
        "x_h = Dense(4, activation=\"relu\")(combinedInput)\n",
        "x_h = Dense(1, activation=\"linear\")(x_h)\n",
        "\n",
        "model_h = Model(inputs=[mlp.input, cnn.input], outputs=x_h)"
      ],
      "metadata": {
        "id": "trB-CRSfPpd6"
      },
      "execution_count": 213,
      "outputs": []
    },
    {
      "cell_type": "code",
      "source": [
        "#tenido que hacer esto aquí porque para el modelo numérico no utilicé 1000 registro sino todo\n",
        "X_train_min, X_test_min, Y_train_min, Y_test_min = train_test_split(data_with_img_min, Y_img_min, test_size=0.2, random_state=1)\n",
        "X_train_min, X_val_min, Y_train_min, Y_val_min = train_test_split(X_train_min, Y_train_min, test_size=0.25, random_state=1)"
      ],
      "metadata": {
        "id": "B0W9PaqIaAM5"
      },
      "execution_count": 214,
      "outputs": []
    },
    {
      "cell_type": "code",
      "source": [
        "#compilamos el modelo\n",
        "opt = Adam(learning_rate=1e-3, decay=1e-3 / 8)\n",
        "model_h.compile(loss=\"mse\", optimizer=opt)\n",
        "\n",
        "# entrenamos el modelo\n",
        "print(\"[INFO] training model...\")\n",
        "model_h.fit(\n",
        "\tx=[X_train_min, X_train_resized1], y=Y_train_min,\n",
        "\tvalidation_data=([X_val_min, X_val_resized1], Y_val_min),\n",
        "\tepochs=10, batch_size=8) #200\n",
        "\n",
        "#hacemos el predict del modelo \n",
        "print(\"[INFO] predicting house prices...\")\n",
        "preds = model_h.predict([X_test_min, X_test_resized1])"
      ],
      "metadata": {
        "colab": {
          "base_uri": "https://localhost:8080/",
          "height": 676
        },
        "id": "jAHe2Cq0QQ2S",
        "outputId": "278da8da-4df8-4d98-d18b-68e0e25d337a"
      },
      "execution_count": 215,
      "outputs": [
        {
          "output_type": "stream",
          "name": "stdout",
          "text": [
            "[INFO] training model...\n",
            "Epoch 1/10\n"
          ]
        },
        {
          "output_type": "error",
          "ename": "ValueError",
          "evalue": "ignored",
          "traceback": [
            "\u001b[0;31m---------------------------------------------------------------------------\u001b[0m",
            "\u001b[0;31mValueError\u001b[0m                                Traceback (most recent call last)",
            "\u001b[0;32m<ipython-input-215-46a32389a9c7>\u001b[0m in \u001b[0;36m<module>\u001b[0;34m()\u001b[0m\n\u001b[1;32m      8\u001b[0m         \u001b[0mx\u001b[0m\u001b[0;34m=\u001b[0m\u001b[0;34m[\u001b[0m\u001b[0mX_train_min\u001b[0m\u001b[0;34m,\u001b[0m \u001b[0mX_train_resized1\u001b[0m\u001b[0;34m]\u001b[0m\u001b[0;34m,\u001b[0m \u001b[0my\u001b[0m\u001b[0;34m=\u001b[0m\u001b[0mY_train_min\u001b[0m\u001b[0;34m,\u001b[0m\u001b[0;34m\u001b[0m\u001b[0;34m\u001b[0m\u001b[0m\n\u001b[1;32m      9\u001b[0m         \u001b[0mvalidation_data\u001b[0m\u001b[0;34m=\u001b[0m\u001b[0;34m(\u001b[0m\u001b[0;34m[\u001b[0m\u001b[0mX_val_min\u001b[0m\u001b[0;34m,\u001b[0m \u001b[0mX_val_resized1\u001b[0m\u001b[0;34m]\u001b[0m\u001b[0;34m,\u001b[0m \u001b[0mY_val_min\u001b[0m\u001b[0;34m)\u001b[0m\u001b[0;34m,\u001b[0m\u001b[0;34m\u001b[0m\u001b[0;34m\u001b[0m\u001b[0m\n\u001b[0;32m---> 10\u001b[0;31m \tepochs=10, batch_size=8) #200\n\u001b[0m\u001b[1;32m     11\u001b[0m \u001b[0;34m\u001b[0m\u001b[0m\n\u001b[1;32m     12\u001b[0m \u001b[0;31m#hacemos el predict del modelo\u001b[0m\u001b[0;34m\u001b[0m\u001b[0;34m\u001b[0m\u001b[0;34m\u001b[0m\u001b[0m\n",
            "\u001b[0;32m/usr/local/lib/python3.7/dist-packages/keras/utils/traceback_utils.py\u001b[0m in \u001b[0;36merror_handler\u001b[0;34m(*args, **kwargs)\u001b[0m\n\u001b[1;32m     65\u001b[0m     \u001b[0;32mexcept\u001b[0m \u001b[0mException\u001b[0m \u001b[0;32mas\u001b[0m \u001b[0me\u001b[0m\u001b[0;34m:\u001b[0m  \u001b[0;31m# pylint: disable=broad-except\u001b[0m\u001b[0;34m\u001b[0m\u001b[0;34m\u001b[0m\u001b[0m\n\u001b[1;32m     66\u001b[0m       \u001b[0mfiltered_tb\u001b[0m \u001b[0;34m=\u001b[0m \u001b[0m_process_traceback_frames\u001b[0m\u001b[0;34m(\u001b[0m\u001b[0me\u001b[0m\u001b[0;34m.\u001b[0m\u001b[0m__traceback__\u001b[0m\u001b[0;34m)\u001b[0m\u001b[0;34m\u001b[0m\u001b[0;34m\u001b[0m\u001b[0m\n\u001b[0;32m---> 67\u001b[0;31m       \u001b[0;32mraise\u001b[0m \u001b[0me\u001b[0m\u001b[0;34m.\u001b[0m\u001b[0mwith_traceback\u001b[0m\u001b[0;34m(\u001b[0m\u001b[0mfiltered_tb\u001b[0m\u001b[0;34m)\u001b[0m \u001b[0;32mfrom\u001b[0m \u001b[0;32mNone\u001b[0m\u001b[0;34m\u001b[0m\u001b[0;34m\u001b[0m\u001b[0m\n\u001b[0m\u001b[1;32m     68\u001b[0m     \u001b[0;32mfinally\u001b[0m\u001b[0;34m:\u001b[0m\u001b[0;34m\u001b[0m\u001b[0;34m\u001b[0m\u001b[0m\n\u001b[1;32m     69\u001b[0m       \u001b[0;32mdel\u001b[0m \u001b[0mfiltered_tb\u001b[0m\u001b[0;34m\u001b[0m\u001b[0;34m\u001b[0m\u001b[0m\n",
            "\u001b[0;32m/usr/local/lib/python3.7/dist-packages/tensorflow/python/framework/func_graph.py\u001b[0m in \u001b[0;36mautograph_handler\u001b[0;34m(*args, **kwargs)\u001b[0m\n\u001b[1;32m   1145\u001b[0m           \u001b[0;32mexcept\u001b[0m \u001b[0mException\u001b[0m \u001b[0;32mas\u001b[0m \u001b[0me\u001b[0m\u001b[0;34m:\u001b[0m  \u001b[0;31m# pylint:disable=broad-except\u001b[0m\u001b[0;34m\u001b[0m\u001b[0;34m\u001b[0m\u001b[0m\n\u001b[1;32m   1146\u001b[0m             \u001b[0;32mif\u001b[0m \u001b[0mhasattr\u001b[0m\u001b[0;34m(\u001b[0m\u001b[0me\u001b[0m\u001b[0;34m,\u001b[0m \u001b[0;34m\"ag_error_metadata\"\u001b[0m\u001b[0;34m)\u001b[0m\u001b[0;34m:\u001b[0m\u001b[0;34m\u001b[0m\u001b[0;34m\u001b[0m\u001b[0m\n\u001b[0;32m-> 1147\u001b[0;31m               \u001b[0;32mraise\u001b[0m \u001b[0me\u001b[0m\u001b[0;34m.\u001b[0m\u001b[0mag_error_metadata\u001b[0m\u001b[0;34m.\u001b[0m\u001b[0mto_exception\u001b[0m\u001b[0;34m(\u001b[0m\u001b[0me\u001b[0m\u001b[0;34m)\u001b[0m\u001b[0;34m\u001b[0m\u001b[0;34m\u001b[0m\u001b[0m\n\u001b[0m\u001b[1;32m   1148\u001b[0m             \u001b[0;32melse\u001b[0m\u001b[0;34m:\u001b[0m\u001b[0;34m\u001b[0m\u001b[0;34m\u001b[0m\u001b[0m\n\u001b[1;32m   1149\u001b[0m               \u001b[0;32mraise\u001b[0m\u001b[0;34m\u001b[0m\u001b[0;34m\u001b[0m\u001b[0m\n",
            "\u001b[0;31mValueError\u001b[0m: in user code:\n\n    File \"/usr/local/lib/python3.7/dist-packages/keras/engine/training.py\", line 1021, in train_function  *\n        return step_function(self, iterator)\n    File \"/usr/local/lib/python3.7/dist-packages/keras/engine/training.py\", line 1010, in step_function  **\n        outputs = model.distribute_strategy.run(run_step, args=(data,))\n    File \"/usr/local/lib/python3.7/dist-packages/keras/engine/training.py\", line 1000, in run_step  **\n        outputs = model.train_step(data)\n    File \"/usr/local/lib/python3.7/dist-packages/keras/engine/training.py\", line 859, in train_step\n        y_pred = self(x, training=True)\n    File \"/usr/local/lib/python3.7/dist-packages/keras/utils/traceback_utils.py\", line 67, in error_handler\n        raise e.with_traceback(filtered_tb) from None\n    File \"/usr/local/lib/python3.7/dist-packages/keras/engine/input_spec.py\", line 264, in assert_input_compatibility\n        raise ValueError(f'Input {input_index} of layer \"{layer_name}\" is '\n\n    ValueError: Input 0 of layer \"model_15\" is incompatible with the layer: expected shape=(None, 7), found shape=(8, 10)\n"
          ]
        }
      ]
    }
  ]
}